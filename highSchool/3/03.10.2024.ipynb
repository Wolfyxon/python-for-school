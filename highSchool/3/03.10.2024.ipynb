{
  "cells": [
    {
      "cell_type": "markdown",
      "id": "b4cfa99e",
      "metadata": {
        "id": "b4cfa99e"
      },
      "source": [
        "### Zadanie 1.\n",
        "\n",
        "Napisz program wyznaczający pole i obwód trójkąta, o podanych bokach. Sprawdź poprawność wczytanych danych."
      ]
    },
    {
      "cell_type": "code",
      "execution_count": null,
      "id": "b617f3be",
      "metadata": {
        "colab": {
          "base_uri": "https://localhost:8080/"
        },
        "id": "b617f3be",
        "outputId": "1b3ad2d4-afba-441e-ee6c-9e6bd95de5ad"
      },
      "outputs": [
        {
          "name": "stdout",
          "output_type": "stream",
          "text": [
            "Podaj 1 bok: 5\n",
            "Podaj 2 bok: 4\n",
            "Podaj 3 bok: 3\n",
            "Obwód wynosi: 12.0\n",
            "Pole wynosi: 7.216878364870322\n"
          ]
        }
      ],
      "source": [
        "from math import sqrt\n",
        "\n",
        "def main():\n",
        "  sides = []\n",
        "\n",
        "  for i in range(3):\n",
        "      sides.append(float(input(f\"Podaj {i + 1} bok: \")))\n",
        "\n",
        "  longest = max(sides)\n",
        "\n",
        "  rest = sides.copy()\n",
        "  rest.remove(longest)\n",
        "\n",
        "  rest_sum = sum(rest)\n",
        "\n",
        "  if(longest > rest_sum):\n",
        "    print(\"Nie poprawny trójkąt\")\n",
        "    return main()\n",
        "\n",
        "  oblast = sum(sides)\n",
        "  height = (sides[0] * sqrt(3)) / 3\n",
        "  area = (sides[0] * height) / 2\n",
        "\n",
        "  print(\"Obwód wynosi:\", oblast)\n",
        "  print(\"Pole wynosi:\", area)\n",
        "\n",
        "main()\n"
      ]
    },
    {
      "cell_type": "markdown",
      "id": "01889890",
      "metadata": {
        "id": "01889890"
      },
      "source": [
        "### Zadanie 2.\n",
        "\n",
        "Napisz program, który sprawdzi czy podany punkt o wspórzędnych  $(x,y)$ należy  do obszaru\n",
        "na płaszczyźnie $XY$ wyznaczonego przez odcinki łączące punkty  \n",
        "\n",
        "\n",
        "*    A = (-5, 5), B = (5, -5), C = (-5, -5)\n",
        "*    A = (1, 3), B = (4, -3), C = (-5, -3)"
      ]
    },
    {
      "cell_type": "code",
      "execution_count": null,
      "id": "5b3634f0",
      "metadata": {
        "id": "5b3634f0"
      },
      "outputs": [],
      "source": [
        "#YOUR CODE HERE"
      ]
    },
    {
      "cell_type": "markdown",
      "id": "81247fde",
      "metadata": {
        "id": "81247fde"
      },
      "source": [
        "### Zadanie 3.\n",
        "\n",
        "Napisz program podający numer ćwiartki układu współrzędnych, do której należy\n",
        "podawany punkt o współrzędnych $(x,y)$."
      ]
    },
    {
      "cell_type": "code",
      "execution_count": null,
      "id": "0fa7188e",
      "metadata": {
        "id": "0fa7188e"
      },
      "outputs": [],
      "source": [
        "#YOUR CODE HERE"
      ]
    },
    {
      "cell_type": "markdown",
      "id": "f452691e",
      "metadata": {
        "id": "f452691e"
      },
      "source": [
        "### Zadanie 4.\n",
        "Napisz program ukazujący czteroelementowe menu (1-AAA, 2-BBB, 3-CCC, 4-KONIEC). Po wybraniu odpowiedniej opcji powienien pojawić się komunikat wybrano AAA lub BBB."
      ]
    },
    {
      "cell_type": "code",
      "execution_count": null,
      "id": "1fb314a8",
      "metadata": {
        "colab": {
          "base_uri": "https://localhost:8080/"
        },
        "id": "1fb314a8",
        "outputId": "18314759-17b8-4838-a8a2-eb29bf720d35"
      },
      "outputs": [
        {
          "name": "stdout",
          "output_type": "stream",
          "text": [
            "1-AAA\n",
            "2-BBB\n",
            "3-CCC\n",
            "4-KONIEC\n",
            "\n",
            "Wybierz opcję: 4\n",
            "4\n",
            "Wybrano: KONIEC\n"
          ]
        }
      ],
      "source": [
        "options = [\n",
        "    \"AAA\",\n",
        "    \"BBB\",\n",
        "    \"CCC\",\n",
        "    \"KONIEC\"\n",
        "]\n",
        "\n",
        "def main():\n",
        "  for i in range(len(options)):\n",
        "    print(f\"{i + 1}-{options[i]}\")\n",
        "  print()\n",
        "\n",
        "  option = int(input(\"Wybierz opcję: \"))\n",
        "  \n",
        "  if option - 1 > len(options) - 1 or option < 1:\n",
        "    print(\"Nie znana opcja\")\n",
        "    return main()\n",
        "\n",
        "  print(\"Wybrano:\", options[option - 1])\n",
        "\n",
        "main()"
      ]
    },
    {
      "cell_type": "markdown",
      "id": "1ce144d2",
      "metadata": {
        "id": "1ce144d2"
      },
      "source": [
        "### Zadanie 5.\n",
        "Napisz program generujący wszystkie liczby nieparzyste od 1 do n.\n",
        "Jeżeli n będzie parzyste, to jaką największą liczbę zwróci program?"
      ]
    },
    {
      "cell_type": "code",
      "execution_count": null,
      "id": "2491f3b9",
      "metadata": {
        "colab": {
          "base_uri": "https://localhost:8080/"
        },
        "id": "2491f3b9",
        "outputId": "01902091-8ffd-48c6-8855-e732151e6280"
      },
      "outputs": [
        {
          "name": "stdout",
          "output_type": "stream",
          "text": [
            "Podaj ilość: 20\n",
            "[1, 3, 5, 7, 9, 11, 13, 15, 17, 19]\n",
            "Największa: 19\n"
          ]
        }
      ],
      "source": [
        "uneven = list(range(1, int(input(\"Podaj ilość: \")), 2))\n",
        "\n",
        "print(uneven)\n",
        "print(\"Największa:\", max(uneven))"
      ]
    },
    {
      "cell_type": "markdown",
      "id": "1c9f6013",
      "metadata": {
        "id": "1c9f6013"
      },
      "source": [
        "### Zadanie 6.\n",
        "Odszyfruj zaszyfrowany za pomocą szyfru Cezara napis i znjadź wartość przesunięcia: napis = ”Rmgi$ he}% ”"
      ]
    },
    {
      "cell_type": "code",
      "execution_count": null,
      "id": "b05d423f",
      "metadata": {
        "colab": {
          "base_uri": "https://localhost:8080/"
        },
        "id": "b05d423f",
        "outputId": "0fd6394e-e882-4a40-ba4a-f0e74bf7a68f"
      },
      "outputs": [
        {
          "name": "stdout",
          "output_type": "stream",
          "text": [
            "Próbowanie -10: Hc]_\u001a\u0016^[s\u001b\n",
            "Próbowanie -9: Id^`\u001b\u0017_\\t\u001c\n",
            "Próbowanie -8: Je_a\u001c\u0018`]u\u001d\n",
            "Próbowanie -7: Kf`b\u001d\u0019a^v\u001e\n",
            "Próbowanie -6: Lgac\u001e\u001ab_w\u001f\n",
            "Próbowanie -5: Mhbd\u001f\u001bc`x \n",
            "Próbowanie -4: Nice \u001cday!\n",
            "Odszyfrowano! Przesunięcie wynosi: -4\n"
          ]
        }
      ],
      "source": [
        "text = \"Rmgi$ he}%\"\n",
        "\n",
        "whitelist = [\"!\"]\n",
        "\n",
        "def bruteforce(offset: int):\n",
        "  global whitelist\n",
        "\n",
        "  if(offset > 10):\n",
        "    print(\"Za dużo prób\")\n",
        "    return\n",
        "\n",
        "  res = \"\"\n",
        "  valid = True\n",
        "\n",
        "  for ch in text:\n",
        "    new = chr(ord(ch) + offset)\n",
        "    res += new\n",
        "\n",
        "    if not new.isalpha() and not new in whitelist and not new.isspace():\n",
        "      valid = False\n",
        "\n",
        "  print(f\"Próbowanie {offset}: {res}\")\n",
        "\n",
        "  if valid:\n",
        "    print(f\"Odszyfrowano! Przesunięcie wynosi:\", offset)\n",
        "  else:\n",
        "    bruteforce(offset + 1)\n",
        "\n",
        "bruteforce(-10)"
      ]
    },
    {
      "cell_type": "markdown",
      "id": "c84669f4",
      "metadata": {
        "id": "c84669f4"
      },
      "source": [
        "### Zadanie 7.\n",
        "Wygeneruj kolejne liczby Fibonacciego z przedziału [1, 100]. Pierwsze\n",
        "dwie są równe 0 i 1, następne powstają poprzez obliczenie sumy dwóch\n",
        "poprzednich a1 = 0, a2 = 1, an+1 = an−1 + an."
      ]
    },
    {
      "cell_type": "code",
      "execution_count": null,
      "id": "4233ccfa",
      "metadata": {
        "id": "4233ccfa"
      },
      "outputs": [],
      "source": [
        "#YOUR CODE HERE"
      ]
    },
    {
      "cell_type": "markdown",
      "id": "739146c0",
      "metadata": {
        "id": "739146c0"
      },
      "source": [
        "### Zadanie 8.\n",
        "Wygeneruj na ekranie tabliczkę mnożenia 10 x 10."
      ]
    },
    {
      "cell_type": "code",
      "execution_count": null,
      "id": "d84734a0",
      "metadata": {
        "colab": {
          "base_uri": "https://localhost:8080/"
        },
        "id": "d84734a0",
        "outputId": "c039955e-0abb-4f1d-83a8-aff4830d55c6"
      },
      "outputs": [
        {
          "name": "stdout",
          "output_type": "stream",
          "text": [
            "1 2 3 4 5 6 7 8 9 10 \n",
            "2 4 6 8 10 12 14 16 18 20 \n",
            "3 6 9 12 15 18 21 24 27 30 \n",
            "4 8 12 16 20 24 28 32 36 40 \n",
            "5 10 15 20 25 30 35 40 45 50 \n",
            "6 12 18 24 30 36 42 48 54 60 \n",
            "7 14 21 28 35 42 49 56 63 70 \n",
            "8 16 24 32 40 48 56 64 72 80 \n",
            "9 18 27 36 45 54 63 72 81 90 \n",
            "10 20 30 40 50 60 70 80 90 100 \n"
          ]
        }
      ],
      "source": [
        "size = 10\n",
        "\n",
        "for y in range(size):\n",
        "  row = \"\"\n",
        "\n",
        "  for x in range(size):\n",
        "    row += str((x + 1) * (y + 1)) + \" \"\n",
        "\n",
        "  print(row)"
      ]
    },
    {
      "cell_type": "markdown",
      "id": "b33d6eb8",
      "metadata": {
        "id": "b33d6eb8"
      },
      "source": [
        "### Zadanie 9.\n",
        "Policz 15!, wypisz na ekranie tylko 3 pierwsze cyfry tej liczby."
      ]
    },
    {
      "cell_type": "code",
      "execution_count": null,
      "id": "df0d6bac",
      "metadata": {
        "id": "df0d6bac"
      },
      "outputs": [],
      "source": [
        "#YOUR CODE HERE"
      ]
    },
    {
      "cell_type": "markdown",
      "id": "0eda6833",
      "metadata": {
        "id": "0eda6833"
      },
      "source": [
        "### Zadanie 10.\n",
        "\n",
        "Wygeneruj trójkąt złożony z \"*\" (wysokość ustala użytkownik)"
      ]
    },
    {
      "cell_type": "code",
      "execution_count": null,
      "id": "add6645c",
      "metadata": {
        "id": "add6645c"
      },
      "outputs": [],
      "source": [
        "#YOUR CODE HERE"
      ]
    },
    {
      "cell_type": "markdown",
      "id": "894b6cc6",
      "metadata": {
        "id": "894b6cc6"
      },
      "source": [
        "### Zadanie 11.\n",
        "\n",
        "Napisz program w języku Python, który obliczy średnią ocen ze wszystkich przedmiotów dla danego studenta. Program powinien pytać użytkownika o nazwę studenta, ilość przedmiotów, a następnie prosić o wprowadzenie ocen z tych przedmiotów. Po wprowadzeniu ocen, program powinien obliczyć i wyświetlić średnią ocenę oraz ocenić studenta na podstawie tej średniej.\n",
        "\n",
        "Zasady oceniania:\n",
        "- Średnia ocen >= 4.5 - Student dostaje ocenę \"Bardzo Dobrze\".\n",
        "- Średnia ocen >= 3.0 - Student dostaje ocenę \"Dobrze\".\n",
        "- Średnia ocen < 3.0 - Student dostaje ocenę \"Nie Zdał\"."
      ]
    },
    {
      "cell_type": "code",
      "execution_count": null,
      "id": "08133893",
      "metadata": {
        "colab": {
          "base_uri": "https://localhost:8080/"
        },
        "id": "08133893",
        "outputId": "e5e65d9c-a265-4236-d297-c1888f8a3124"
      },
      "outputs": [
        {
          "name": "stdout",
          "output_type": "stream",
          "text": [
            "Podaj nazwę studenta: Panzerkampfwagen\n",
            "Podaj ilość przedmiotów5\n",
            "Podaj oceny (oddzielone spacją): 1 5 2\n",
            "Podaj oceny (oddzielone spacją): 1\n",
            "Podaj oceny (oddzielone spacją): 6 6 5 4 6 5\n",
            "Podaj oceny (oddzielone spacją): 3 4 5 7\n",
            "Podaj oceny (oddzielone spacją): 5 5 5 5\n",
            "Dobrze\n"
          ]
        }
      ],
      "source": [
        "name = input(\"Podaj nazwę studenta: \")\n",
        "\n",
        "grades = []\n",
        "\n",
        "for i in range(int(input(\"Podaj ilość przedmiotów: \"))):\n",
        "\n",
        "  for strGrade in input(\"Podaj oceny (oddzielone spacją): \").split(\" \"):\n",
        "    grades.append(int(strGrade))\n",
        "\n",
        "average = sum(grades) / len(grades)\n",
        "\n",
        "if average >= 4.5:\n",
        "  print(\"Bardzo dobrze\")\n",
        "elif average >= 3:\n",
        "  print(\"Dobrze\")\n",
        "else:\n",
        "  print(\"Nie zdał\")"
      ]
    },
    {
      "cell_type": "markdown",
      "id": "5e38da25",
      "metadata": {
        "id": "5e38da25"
      },
      "source": [
        "### Zadanie 12.\n",
        "\n",
        "Napisz program w języku Python, który poprosi użytkownika o wprowadzenie liczby całkowitej. Następnie program powinien użyć pętli do sprawdzenia, czy liczby od 1 do wprowadzonej liczby są parzyste czy nieparzyste. Program powinien wyświetlić wyniki w formie listy."
      ]
    },
    {
      "cell_type": "code",
      "execution_count": null,
      "id": "84b32d69",
      "metadata": {
        "colab": {
          "base_uri": "https://localhost:8080/"
        },
        "id": "84b32d69",
        "outputId": "34c3d451-c327-49f2-8825-07000e219307"
      },
      "outputs": [
        {
          "name": "stdout",
          "output_type": "stream",
          "text": [
            "Podaj liczbę całkowitą: 10\n",
            "[False, True, False, True, False, True, False, True, False]\n"
          ]
        }
      ],
      "source": [
        "n = int(input(\"Podaj liczbę całkowitą: \"))\n",
        "\n",
        "res = []\n",
        "\n",
        "for i in range(1, n):\n",
        "  res.append(i % 2 == 0)\n",
        "\n",
        "print(res)"
      ]
    },
    {
      "cell_type": "markdown",
      "id": "6a1c2e3d",
      "metadata": {
        "id": "6a1c2e3d"
      },
      "source": [
        "### Zadanie 13.\n",
        "\n",
        "Napisz program, który obliczy wskaźnik masy ciała (BMI) na podstawie wprowadzonych przez użytkownika danych: masy ciała (w kilogramach) i wzrostu (w metrach). Program powinien również ocenić stan zdrowia użytkownika na podstawie obliczonego BMI i wyświetlić odpowiedni komunikat.\n",
        "\n",
        "Zasady oceny BMI:\n",
        "- BMI < 18.5 - niedowaga\n",
        "- 18.5 <= BMI < 24.9 - prawidłowa masa ciała\n",
        "- 25 <= BMI < 29.9 - nadwaga\n",
        "- BMI >= 30 - otyłość"
      ]
    },
    {
      "cell_type": "code",
      "execution_count": null,
      "id": "348ec90c",
      "metadata": {
        "id": "348ec90c"
      },
      "outputs": [],
      "source": [
        "weight = float(input(\"Podaj wagę: \"))\n",
        "height = float(input(\"Podaj wysokość: \"))\n",
        "\n",
        "bmi = weight / height ** 2\n",
        "\n",
        "print(\"BMI wynosi:\", bmi)\n",
        "\n",
        "if bmi < 18.5:\n",
        "  print(\"niedowaga\")\n"
      ]
    },
    {
      "cell_type": "markdown",
      "id": "022ec9f4",
      "metadata": {
        "id": "022ec9f4"
      },
      "source": [
        "### Zadanie 14.\n",
        "Poproś użytkownika o wprowadzenie tekstu i oblicz, ile razy każde słowo występuje w tekście."
      ]
    },
    {
      "cell_type": "code",
      "execution_count": null,
      "id": "7024e637",
      "metadata": {
        "id": "7024e637",
        "outputId": "69fe0db1-af5a-412f-c35e-e11edd7dae5a"
      },
      "outputs": [
        {
          "data": {
            "text/plain": [
              "{'a', 'b'}"
            ]
          },
          "execution_count": 2,
          "metadata": {},
          "output_type": "execute_result"
        }
      ],
      "source": [
        "a = [\"a\", \"b\", \"a\"]\n",
        "set(a)"
      ]
    },
    {
      "cell_type": "markdown",
      "id": "a3b195b3",
      "metadata": {
        "id": "a3b195b3"
      },
      "source": [
        "### Zadanie 15.\n",
        "Stwórz prostą grę, w której komputer losuje liczbę, a użytkownik ma za zadanie zgadnąć ją w określonej liczbie prób."
      ]
    },
    {
      "cell_type": "code",
      "execution_count": null,
      "id": "e7fee347",
      "metadata": {
        "id": "e7fee347"
      },
      "outputs": [],
      "source": [
        "#YOUR CODE HERE"
      ]
    },
    {
      "cell_type": "markdown",
      "id": "f70f86ec",
      "metadata": {
        "id": "f70f86ec"
      },
      "source": [
        "### Zadanie 16.\n",
        "Stwórz program, który umożliwi użytkownikowi rozegranie gry w kamień, papier, nożyce z komputerem."
      ]
    },
    {
      "cell_type": "code",
      "execution_count": null,
      "id": "2063f02e",
      "metadata": {
        "id": "2063f02e"
      },
      "outputs": [],
      "source": [
        "#YOUR CODE HERE"
      ]
    },
    {
      "cell_type": "markdown",
      "id": "a38111f2",
      "metadata": {
        "id": "a38111f2"
      },
      "source": [
        "### Zadanie 17.\n",
        "Napisz program, który obliczy kwotę VAT oraz cenę brutto na podstawie podanej ceny netto i stawki VAT podanych przez użytkownika."
      ]
    },
    {
      "cell_type": "code",
      "execution_count": null,
      "id": "6c3fb1fa",
      "metadata": {
        "id": "6c3fb1fa"
      },
      "outputs": [],
      "source": [
        "#YOUR CODE HERE"
      ]
    },
    {
      "cell_type": "markdown",
      "id": "f973d46c",
      "metadata": {
        "id": "f973d46c"
      },
      "source": [
        "### Zadanie 18.\n",
        "Napisz program, który generuje listę parzystych liczb w zadanym przez użytkownika zakresie."
      ]
    },
    {
      "cell_type": "code",
      "execution_count": null,
      "id": "853b4a3f",
      "metadata": {
        "id": "853b4a3f"
      },
      "outputs": [],
      "source": [
        "#YOUR CODE HERE"
      ]
    },
    {
      "cell_type": "markdown",
      "id": "4ddcc4c0",
      "metadata": {
        "id": "4ddcc4c0"
      },
      "source": [
        "### Zadanie 19.\n",
        "Stwórz grę w kółko i krzyżyk dla dwóch graczy. Zaimplementuj planszę, na której gracze wykonują ruchy, a wygrywa ten, kto pierwszy ułoży trzy swoje znaki w rzędzie, kolumnie lub przekątnej."
      ]
    },
    {
      "cell_type": "code",
      "execution_count": null,
      "id": "bd84032a",
      "metadata": {
        "id": "bd84032a"
      },
      "outputs": [],
      "source": [
        "#YOUR CODE HERE"
      ]
    },
    {
      "cell_type": "markdown",
      "id": "b047f9c1",
      "metadata": {
        "id": "b047f9c1"
      },
      "source": [
        "### Zadanie 20.\n",
        "\n",
        "Stwórz grę, w której komputer losuje słowo, a gracz musi zgadnąć je na podstawie podpowiedzi i ilości liter w słowie."
      ]
    },
    {
      "cell_type": "code",
      "execution_count": null,
      "id": "7b3a19ab",
      "metadata": {
        "id": "7b3a19ab"
      },
      "outputs": [],
      "source": [
        "#YOUR CODE HERE"
      ]
    }
  ],
  "metadata": {
    "colab": {
      "provenance": []
    },
    "kernelspec": {
      "display_name": "Python 3 (ipykernel)",
      "language": "python",
      "name": "python3"
    },
    "language_info": {
      "codemirror_mode": {
        "name": "ipython",
        "version": 3
      },
      "file_extension": ".py",
      "mimetype": "text/x-python",
      "name": "python",
      "nbconvert_exporter": "python",
      "pygments_lexer": "ipython3",
      "version": "3.12.6"
    }
  },
  "nbformat": 4,
  "nbformat_minor": 5
}
