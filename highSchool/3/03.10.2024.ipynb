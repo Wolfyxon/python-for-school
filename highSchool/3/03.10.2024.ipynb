{
 "cells": [
  {
   "cell_type": "markdown",
   "id": "b4cfa99e",
   "metadata": {},
   "source": [
    "### Zadanie 1.\n",
    "\n",
    "Napisz program wyznaczający pole i obwód trójkąta, o podanych bokach. Sprawdź poprawność wczytanych danych."
   ]
  },
  {
   "cell_type": "code",
   "execution_count": null,
   "id": "b617f3be",
   "metadata": {},
   "outputs": [],
   "source": [
    "w = float(input(\"Podaj szerokość: \"))\n",
    "h = float(input(\"Podaj wysokość: \"))\n",
    "\n",
    "print(\"Pole wynosi\", (w * h) / 2)"
   ]
  },
  {
   "cell_type": "markdown",
   "id": "01889890",
   "metadata": {},
   "source": [
    "### Zadanie 2.\n",
    "\n",
    "Napisz program, który sprawdzi czy podany punkt o wspórzędnych  $(x,y)$ należy  do obszaru\n",
    "na płaszczyźnie $XY$ wyznaczonego przez odcinki łączące punkty  \n",
    "\n",
    "\n",
    "*    A = (-5, 5), B = (5, -5), C = (-5, -5)\n",
    "*    A = (1, 3), B = (4, -3), C = (-5, -3)"
   ]
  },
  {
   "cell_type": "code",
   "execution_count": null,
   "id": "5b3634f0",
   "metadata": {},
   "outputs": [],
   "source": [
    "#YOUR CODE HERE"
   ]
  },
  {
   "cell_type": "markdown",
   "id": "81247fde",
   "metadata": {},
   "source": [
    "### Zadanie 3. \n",
    "\n",
    "Napisz program podający numer ćwiartki układu współrzędnych, do której należy\n",
    "podawany punkt o współrzędnych $(x,y)$."
   ]
  },
  {
   "cell_type": "code",
   "execution_count": null,
   "id": "0fa7188e",
   "metadata": {},
   "outputs": [],
   "source": [
    "#YOUR CODE HERE"
   ]
  },
  {
   "cell_type": "markdown",
   "id": "f452691e",
   "metadata": {},
   "source": [
    "### Zadanie 4.\n",
    "Napisz program ukazujący czteroelementowe menu (1-AAA, 2-BBB, 3-CCC, 4-KONIEC). Po wybraniu odpowiedniej opcji powienien pojawić się komunikat wybrano AAA lub BBB."
   ]
  },
  {
   "cell_type": "code",
   "execution_count": null,
   "id": "1fb314a8",
   "metadata": {},
   "outputs": [],
   "source": [
    "#YOUR CODE HERE"
   ]
  },
  {
   "cell_type": "markdown",
   "id": "1ce144d2",
   "metadata": {},
   "source": [
    "### Zadanie 5.\n",
    "Napisz program generujący wszystkie liczby nieparzyste od 1 do n.\n",
    "Jeżeli n będzie parzyste, to jaką największą liczbę zwróci program?"
   ]
  },
  {
   "cell_type": "code",
   "execution_count": null,
   "id": "2491f3b9",
   "metadata": {},
   "outputs": [],
   "source": [
    "#YOUR CODE HERE"
   ]
  },
  {
   "cell_type": "markdown",
   "id": "1c9f6013",
   "metadata": {},
   "source": [
    "### Zadanie 6.\n",
    "Odszyfruj zaszyfrowany za pomocą szyfru Cezara napis i znjadź wartość przesunięcia: napis = ”Rmgi$ he}% ”"
   ]
  },
  {
   "cell_type": "code",
   "execution_count": null,
   "id": "b05d423f",
   "metadata": {},
   "outputs": [],
   "source": [
    "#YOUR CODE HERE"
   ]
  },
  {
   "cell_type": "markdown",
   "id": "c84669f4",
   "metadata": {},
   "source": [
    "### Zadanie 7.\n",
    "Wygeneruj kolejne liczby Fibonacciego z przedziału [1, 100]. Pierwsze\n",
    "dwie są równe 0 i 1, następne powstają poprzez obliczenie sumy dwóch\n",
    "poprzednich a1 = 0, a2 = 1, an+1 = an−1 + an."
   ]
  },
  {
   "cell_type": "code",
   "execution_count": null,
   "id": "4233ccfa",
   "metadata": {},
   "outputs": [],
   "source": [
    "#YOUR CODE HERE"
   ]
  },
  {
   "cell_type": "markdown",
   "id": "739146c0",
   "metadata": {},
   "source": [
    "### Zadanie 8. \n",
    "Wygeneruj na ekranie tabliczkę mnożenia 10 x 10."
   ]
  },
  {
   "cell_type": "code",
   "execution_count": null,
   "id": "d84734a0",
   "metadata": {},
   "outputs": [],
   "source": [
    "#YOUR CODE HERE"
   ]
  },
  {
   "cell_type": "markdown",
   "id": "b33d6eb8",
   "metadata": {},
   "source": [
    "### Zadanie 9.\n",
    "Policz 15!, wypisz na ekranie tylko 3 pierwsze cyfry tej liczby."
   ]
  },
  {
   "cell_type": "code",
   "execution_count": null,
   "id": "df0d6bac",
   "metadata": {},
   "outputs": [],
   "source": [
    "#YOUR CODE HERE"
   ]
  },
  {
   "cell_type": "markdown",
   "id": "0eda6833",
   "metadata": {},
   "source": [
    "### Zadanie 10. \n",
    "\n",
    "Wygeneruj trójkąt złożony z \"*\" (wysokość ustala użytkownik)"
   ]
  },
  {
   "cell_type": "code",
   "execution_count": 1,
   "id": "add6645c",
   "metadata": {},
   "outputs": [],
   "source": [
    "#YOUR CODE HERE"
   ]
  },
  {
   "cell_type": "markdown",
   "id": "894b6cc6",
   "metadata": {},
   "source": [
    "### Zadanie 11. \n",
    "\n",
    "Napisz program w języku Python, który obliczy średnią ocen ze wszystkich przedmiotów dla danego studenta. Program powinien pytać użytkownika o nazwę studenta, ilość przedmiotów, a następnie prosić o wprowadzenie ocen z tych przedmiotów. Po wprowadzeniu ocen, program powinien obliczyć i wyświetlić średnią ocenę oraz ocenić studenta na podstawie tej średniej.\n",
    "\n",
    "Zasady oceniania:\n",
    "- Średnia ocen >= 4.5 - Student dostaje ocenę \"Bardzo Dobrze\".\n",
    "- Średnia ocen >= 3.0 - Student dostaje ocenę \"Dobrze\".\n",
    "- Średnia ocen < 3.0 - Student dostaje ocenę \"Nie Zdał\"."
   ]
  },
  {
   "cell_type": "code",
   "execution_count": null,
   "id": "08133893",
   "metadata": {},
   "outputs": [],
   "source": [
    "#YOUR CODE HERE"
   ]
  },
  {
   "cell_type": "markdown",
   "id": "5e38da25",
   "metadata": {},
   "source": [
    "### Zadanie 12. \n",
    "\n",
    "Napisz program w języku Python, który poprosi użytkownika o wprowadzenie liczby całkowitej. Następnie program powinien użyć pętli do sprawdzenia, czy liczby od 1 do wprowadzonej liczby są parzyste czy nieparzyste. Program powinien wyświetlić wyniki w formie listy."
   ]
  },
  {
   "cell_type": "code",
   "execution_count": null,
   "id": "84b32d69",
   "metadata": {},
   "outputs": [],
   "source": [
    "#YOUR CODE HERE"
   ]
  },
  {
   "cell_type": "markdown",
   "id": "6a1c2e3d",
   "metadata": {},
   "source": [
    "### Zadanie 13. \n",
    "\n",
    "Napisz program, który obliczy wskaźnik masy ciała (BMI) na podstawie wprowadzonych przez użytkownika danych: masy ciała (w kilogramach) i wzrostu (w metrach). Program powinien również ocenić stan zdrowia użytkownika na podstawie obliczonego BMI i wyświetlić odpowiedni komunikat.\n",
    "\n",
    "Zasady oceny BMI:\n",
    "- BMI < 18.5 - niedowaga\n",
    "- 18.5 <= BMI < 24.9 - prawidłowa masa ciała\n",
    "- 25 <= BMI < 29.9 - nadwaga\n",
    "- BMI >= 30 - otyłość"
   ]
  },
  {
   "cell_type": "code",
   "execution_count": null,
   "id": "348ec90c",
   "metadata": {},
   "outputs": [],
   "source": [
    "#YOUR CODE HERE"
   ]
  },
  {
   "cell_type": "markdown",
   "id": "022ec9f4",
   "metadata": {},
   "source": [
    "### Zadanie 14.\n",
    "Poproś użytkownika o wprowadzenie tekstu i oblicz, ile razy każde słowo występuje w tekście."
   ]
  },
  {
   "cell_type": "code",
   "execution_count": 2,
   "id": "7024e637",
   "metadata": {},
   "outputs": [
    {
     "data": {
      "text/plain": [
       "{'a', 'b'}"
      ]
     },
     "execution_count": 2,
     "metadata": {},
     "output_type": "execute_result"
    }
   ],
   "source": [
    "a = [\"a\", \"b\", \"a\"]\n",
    "set(a)"
   ]
  },
  {
   "cell_type": "markdown",
   "id": "a3b195b3",
   "metadata": {},
   "source": [
    "### Zadanie 15. \n",
    "Stwórz prostą grę, w której komputer losuje liczbę, a użytkownik ma za zadanie zgadnąć ją w określonej liczbie prób."
   ]
  },
  {
   "cell_type": "code",
   "execution_count": null,
   "id": "e7fee347",
   "metadata": {},
   "outputs": [],
   "source": [
    "#YOUR CODE HERE"
   ]
  },
  {
   "cell_type": "markdown",
   "id": "f70f86ec",
   "metadata": {},
   "source": [
    "### Zadanie 16. \n",
    "Stwórz program, który umożliwi użytkownikowi rozegranie gry w kamień, papier, nożyce z komputerem."
   ]
  },
  {
   "cell_type": "code",
   "execution_count": null,
   "id": "2063f02e",
   "metadata": {},
   "outputs": [],
   "source": [
    "#YOUR CODE HERE"
   ]
  },
  {
   "cell_type": "markdown",
   "id": "a38111f2",
   "metadata": {},
   "source": [
    "### Zadanie 17. \n",
    "Napisz program, który obliczy kwotę VAT oraz cenę brutto na podstawie podanej ceny netto i stawki VAT podanych przez użytkownika."
   ]
  },
  {
   "cell_type": "code",
   "execution_count": null,
   "id": "6c3fb1fa",
   "metadata": {},
   "outputs": [],
   "source": [
    "#YOUR CODE HERE"
   ]
  },
  {
   "cell_type": "markdown",
   "id": "f973d46c",
   "metadata": {},
   "source": [
    "### Zadanie 18.\n",
    "Napisz program, który generuje listę parzystych liczb w zadanym przez użytkownika zakresie."
   ]
  },
  {
   "cell_type": "code",
   "execution_count": null,
   "id": "853b4a3f",
   "metadata": {},
   "outputs": [],
   "source": [
    "#YOUR CODE HERE"
   ]
  },
  {
   "cell_type": "markdown",
   "id": "4ddcc4c0",
   "metadata": {},
   "source": [
    "### Zadanie 19.\n",
    "Stwórz grę w kółko i krzyżyk dla dwóch graczy. Zaimplementuj planszę, na której gracze wykonują ruchy, a wygrywa ten, kto pierwszy ułoży trzy swoje znaki w rzędzie, kolumnie lub przekątnej."
   ]
  },
  {
   "cell_type": "code",
   "execution_count": null,
   "id": "bd84032a",
   "metadata": {},
   "outputs": [],
   "source": [
    "#YOUR CODE HERE"
   ]
  },
  {
   "cell_type": "markdown",
   "id": "b047f9c1",
   "metadata": {},
   "source": [
    "### Zadanie 20. \n",
    "\n",
    "Stwórz grę, w której komputer losuje słowo, a gracz musi zgadnąć je na podstawie podpowiedzi i ilości liter w słowie."
   ]
  },
  {
   "cell_type": "code",
   "execution_count": null,
   "id": "7b3a19ab",
   "metadata": {},
   "outputs": [],
   "source": [
    "#YOUR CODE HERE"
   ]
  }
 ],
 "metadata": {
  "kernelspec": {
   "display_name": "Python 3 (ipykernel)",
   "language": "python",
   "name": "python3"
  },
  "language_info": {
   "codemirror_mode": {
    "name": "ipython",
    "version": 3
   },
   "file_extension": ".py",
   "mimetype": "text/x-python",
   "name": "python",
   "nbconvert_exporter": "python",
   "pygments_lexer": "ipython3",
   "version": "3.9.13"
  }
 },
 "nbformat": 4,
 "nbformat_minor": 5
}
