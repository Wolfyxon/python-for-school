{
  "nbformat": 4,
  "nbformat_minor": 0,
  "metadata": {
    "colab": {
      "provenance": []
    },
    "kernelspec": {
      "name": "python3",
      "display_name": "Python 3"
    },
    "language_info": {
      "name": "python"
    }
  },
  "cells": [
    {
      "cell_type": "markdown",
      "source": [
        "Twoim zadaniem jest stworzenie prostego programu do zarządzania bazą kontaktów przy użyciu słowników w języku Python. Program powinien umożliwiać dodawanie nowych kontaktów, wyszukiwanie istniejących kontaktów, aktualizowanie informacji oraz usuwanie kontaktów.\n",
        "\n",
        "Instrukcje:\n",
        "1. Stwórz pusty słownik o nazwie \"baza_kontaktow\".\n",
        "2. Napisz pętlę, która będzie działać, dopóki użytkownik nie zdecyduje się zakończyć programu.\n",
        "3. Wewnątrz pętli, użytkownik powinien mieć opcje do wyboru:\n",
        "   a) Dodawanie nowego kontaktu: Program powinien prosić użytkownika o wprowadzenie imienia i numeru telefonu. Te informacje powinny zostać dodane jako para klucz-wartość do słownika \"baza_kontaktow\".\n",
        "   b) Wyszukiwanie kontaktu: Użytkownik powinien móc wprowadzić imię, a program powinien sprawdzić, czy taki kontakt istnieje w bazie i wyświetlić związane z nim informacje.\n",
        "   c) Aktualizacja informacji: Użytkownik powinien mieć możliwość aktualizowania numeru telefonu istniejącego kontaktu. Program powinien odpytać użytkownika o nowy numer i zaktualizować odpowiedni wpis w słowniku.\n",
        "   d) Usuwanie kontaktu: Użytkownik powinien podać imię kontaktu do usunięcia, a program powinien go usunąć ze słownika.\n",
        "   e) Zakończenie programu: Użytkownik powinien móc wybrać opcję zakończenia programu, co zakończy działanie pętli.\n",
        "\n",
        "Wskazówki:\n",
        "- Do obsługi różnych opcji możesz użyć instrukcji warunkowych (if, elif, else).\n",
        "- Do wyjścia z pętli, możesz użyć specjalnej wartości, np. \"exit\" lub \"quit\".\n",
        "\n",
        "Przykład interakcji:\n",
        "```\n",
        "Witaj w programie do zarządzania kontaktami!\n",
        "\n",
        "Co chciałbyś zrobić?\n",
        "1. Dodaj nowy kontakt\n",
        "2. Wyszukaj kontakt\n",
        "3. Zaktualizuj numer telefonu\n",
        "4. Usuń kontakt\n",
        "5. Zakończ program\n",
        "\n",
        "Wybierz opcję: 1\n",
        "Podaj imię nowego kontaktu: Jan\n",
        "Podaj numer telefonu: 123-456-789\n",
        "Kontakt dodany!\n",
        "\n",
        "Co chciałbyś zrobić?\n",
        "1. Dodaj nowy kontakt\n",
        "2. Wyszukaj kontakt\n",
        "3. Zaktualizuj numer telefonu\n",
        "4. Usuń kontakt\n",
        "5. Zakończ program\n",
        "\n",
        "Wybierz opcję: 2\n",
        "Podaj imię kontaktu do wyszukania: Jan\n",
        "Numer telefonu: 123-456-789"
      ],
      "metadata": {
        "id": "g8IvHkNs4seX"
      }
    },
    {
      "cell_type": "code",
      "execution_count": 1,
      "metadata": {
        "id": "f-Fw5r6V4jqb"
      },
      "outputs": [],
      "source": [
        "# YOUR CODE HERE"
      ]
    }
  ]
}