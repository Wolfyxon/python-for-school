{
 "cells": [
  {
   "cell_type": "markdown",
   "metadata": {
    "id": "g8IvHkNs4seX"
   },
   "source": [
    "Twoim zadaniem jest stworzenie prostego programu do zarządzania bazą kontaktów przy użyciu słowników w języku Python. Program powinien umożliwiać dodawanie nowych kontaktów, wyszukiwanie istniejących kontaktów, aktualizowanie informacji oraz usuwanie kontaktów.\n",
    "\n",
    "Instrukcje:\n",
    "1. Stwórz pusty słownik o nazwie \"baza_kontaktow\".\n",
    "2. Napisz pętlę, która będzie działać, dopóki użytkownik nie zdecyduje się zakończyć programu.\n",
    "3. Wewnątrz pętli, użytkownik powinien mieć opcje do wyboru:\n",
    "   a) Dodawanie nowego kontaktu: Program powinien prosić użytkownika o wprowadzenie imienia i numeru telefonu. Te informacje powinny zostać dodane jako para klucz-wartość do słownika \"baza_kontaktow\".\n",
    "   b) Wyszukiwanie kontaktu: Użytkownik powinien móc wprowadzić imię, a program powinien sprawdzić, czy taki kontakt istnieje w bazie i wyświetlić związane z nim informacje.\n",
    "   c) Aktualizacja informacji: Użytkownik powinien mieć możliwość aktualizowania numeru telefonu istniejącego kontaktu. Program powinien odpytać użytkownika o nowy numer i zaktualizować odpowiedni wpis w słowniku.\n",
    "   d) Usuwanie kontaktu: Użytkownik powinien podać imię kontaktu do usunięcia, a program powinien go usunąć ze słownika.\n",
    "   e) Zakończenie programu: Użytkownik powinien móc wybrać opcję zakończenia programu, co zakończy działanie pętli.\n",
    "\n",
    "Wskazówki:\n",
    "- Do obsługi różnych opcji możesz użyć instrukcji warunkowych (if, elif, else).\n",
    "- Do wyjścia z pętli, możesz użyć specjalnej wartości, np. \"exit\" lub \"quit\".\n",
    "\n",
    "Przykład interakcji:\n",
    "```\n",
    "Witaj w programie do zarządzania kontaktami!\n",
    "\n",
    "Co chciałbyś zrobić?\n",
    "1. Dodaj nowy kontakt\n",
    "2. Wyszukaj kontakt\n",
    "3. Zaktualizuj numer telefonu\n",
    "4. Usuń kontakt\n",
    "5. Zakończ program\n",
    "\n",
    "Wybierz opcję: 1\n",
    "Podaj imię nowego kontaktu: Jan\n",
    "Podaj numer telefonu: 123-456-789\n",
    "Kontakt dodany!\n",
    "\n",
    "Co chciałbyś zrobić?\n",
    "1. Dodaj nowy kontakt\n",
    "2. Wyszukaj kontakt\n",
    "3. Zaktualizuj numer telefonu\n",
    "4. Usuń kontakt\n",
    "5. Zakończ program\n",
    "\n",
    "Wybierz opcję: 2\n",
    "Podaj imię kontaktu do wyszukania: Jan\n",
    "Numer telefonu: 123-456-789"
   ]
  },
  {
   "cell_type": "code",
   "execution_count": 1,
   "metadata": {
    "id": "f-Fw5r6V4jqb"
   },
   "outputs": [
    {
     "name": "stdout",
     "output_type": "stream",
     "text": [
      "1. Dodaj nowy kontakt\n",
      "2. Wyszukaj kontakt\n",
      "3. Zaktualizuj numer telefonu\n",
      "4. Usuń kontakt\n",
      "5. Zakończ program\n"
     ]
    },
    {
     "name": "stdin",
     "output_type": "stream",
     "text": [
      "Wybierz opcję:  1\n"
     ]
    },
    {
     "name": "stdout",
     "output_type": "stream",
     "text": [
      "\n"
     ]
    },
    {
     "name": "stdin",
     "output_type": "stream",
     "text": [
      "Podaj imię nowego kontaktu:  Jan\n",
      "Podaj numer telefonu:  123-456-789\n"
     ]
    },
    {
     "name": "stdout",
     "output_type": "stream",
     "text": [
      "Kontakt dodany!\n",
      "\n",
      "1. Dodaj nowy kontakt\n",
      "2. Wyszukaj kontakt\n",
      "3. Zaktualizuj numer telefonu\n",
      "4. Usuń kontakt\n",
      "5. Zakończ program\n"
     ]
    },
    {
     "name": "stdin",
     "output_type": "stream",
     "text": [
      "Wybierz opcję:  2\n"
     ]
    },
    {
     "name": "stdout",
     "output_type": "stream",
     "text": [
      "\n"
     ]
    },
    {
     "name": "stdin",
     "output_type": "stream",
     "text": [
      "Podaj nazwę kontaktu do wyszukania:  jAn\n"
     ]
    },
    {
     "name": "stdout",
     "output_type": "stream",
     "text": [
      "Numer telefonu: 123-456-789\n",
      "\n",
      "1. Dodaj nowy kontakt\n",
      "2. Wyszukaj kontakt\n",
      "3. Zaktualizuj numer telefonu\n",
      "4. Usuń kontakt\n",
      "5. Zakończ program\n"
     ]
    },
    {
     "name": "stdin",
     "output_type": "stream",
     "text": [
      "Wybierz opcję:  5\n"
     ]
    },
    {
     "name": "stdout",
     "output_type": "stream",
     "text": [
      "\n",
      "żegnaj\n"
     ]
    }
   ],
   "source": [
    "baza_kontaktow = {\n",
    "    # name: number\n",
    "}\n",
    "\n",
    "running = True\n",
    "\n",
    "class Contact:\n",
    "    def __init__(self, name: str, number: str):\n",
    "        self.name = name\n",
    "        self.number = number\n",
    "\n",
    "def get_contact(query: str) -> Contact:\n",
    "    for (name, num) in baza_kontaktow.items():\n",
    "        if name.lower() == query.lower():\n",
    "            return Contact(name, num)\n",
    "\n",
    "class Option:\n",
    "    def __init__(self, display: str):\n",
    "        self.display = display\n",
    "\n",
    "    def handler(self):\n",
    "        raise NotImplementedError()\n",
    "\n",
    "class New(Option):\n",
    "    def handler(self):\n",
    "        name = input(\"Podaj imię nowego kontaktu: \")\n",
    "        num = input(\"Podaj numer telefonu: \")\n",
    "\n",
    "        if get_contact(name):\n",
    "            return print(\"Kontakt już istnieje\")\n",
    "\n",
    "        baza_kontaktow[name] = num\n",
    "        print(\"Kontakt dodany!\")\n",
    "\n",
    "class Search(Option):\n",
    "    def handler(self):\n",
    "        contact = get_contact(input(\"Podaj nazwę kontaktu do wyszukania: \"))\n",
    "\n",
    "        if contact:\n",
    "            print(\"Numer telefonu:\", contact.number)\n",
    "        else:\n",
    "            print(\"Nie znaleziono kontaktu\")\n",
    "\n",
    "class Update(Option):\n",
    "    def handler(self):\n",
    "        contact = get_contact(input(\"Podaj nazwę kontaktu: \"))\n",
    "\n",
    "        if not contact:\n",
    "            return print(\"Kontakt nie istnieje\")\n",
    "\n",
    "        num = input(\"Podaj nowy numer telefonu: \")\n",
    "\n",
    "        baza_kontaktow[contact.name] = num\n",
    "        print(\"Kontakt zaktualizowany!\")\n",
    "\n",
    "class Delete(Option):\n",
    "    def handler(self):\n",
    "        contact = get_contact(input(\"Podaj nazwę kontaktu do usunięcia: \"))\n",
    "\n",
    "        if not contact:\n",
    "            return print(\"Kontakt nie istnieje\")\n",
    "\n",
    "        del baza_kontaktow[contact.name]\n",
    "        print(\"Kontakt usunięty!\")\n",
    "\n",
    "class Exit(Option):\n",
    "    def handler(self):\n",
    "        global running\n",
    "        \n",
    "        print(\"żegnaj\")\n",
    "        exit()\n",
    "        running = False\n",
    "\n",
    "options = [\n",
    "    New(\"Dodaj nowy kontakt\"),\n",
    "    Search(\"Wyszukaj kontakt\"),\n",
    "    Update(\"Zaktualizuj numer telefonu\"),\n",
    "    Delete(\"Usuń kontakt\"),\n",
    "    Exit(\"Zakończ program\")\n",
    "]\n",
    "\n",
    "def main():\n",
    "    for i in range(len(options)):\n",
    "        print(f\"{i + 1}. {options[i].display}\")\n",
    "\n",
    "    try:\n",
    "        opt_id = int(input(\"Wybierz opcję: \"))\n",
    "\n",
    "        if opt_id < 1 or opt_id > len(options):\n",
    "            print(\"Nieznana opcja\")\n",
    "            return main()\n",
    "\n",
    "        print()\n",
    "        options[opt_id - 1].handler()\n",
    "\n",
    "        # w Jupyter Lab, exit() nie kończy programu >:(\n",
    "        if not running:\n",
    "            return\n",
    "\n",
    "    except ValueError:\n",
    "        print(\"Niepoprawna liczba\")\n",
    "\n",
    "    print()\n",
    "    main()\n",
    "\n",
    "main()"
   ]
  },
  {
   "cell_type": "code",
   "execution_count": null,
   "metadata": {},
   "outputs": [],
   "source": []
  }
 ],
 "metadata": {
  "colab": {
   "provenance": []
  },
  "kernelspec": {
   "display_name": "Python 3 (ipykernel)",
   "language": "python",
   "name": "python3"
  },
  "language_info": {
   "codemirror_mode": {
    "name": "ipython",
    "version": 3
   },
   "file_extension": ".py",
   "mimetype": "text/x-python",
   "name": "python",
   "nbconvert_exporter": "python",
   "pygments_lexer": "ipython3",
   "version": "3.12.7"
  }
 },
 "nbformat": 4,
 "nbformat_minor": 4
}
