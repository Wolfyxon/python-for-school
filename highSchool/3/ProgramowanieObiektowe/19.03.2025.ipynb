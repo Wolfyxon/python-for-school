{
  "nbformat": 4,
  "nbformat_minor": 0,
  "metadata": {
    "colab": {
      "provenance": []
    },
    "kernelspec": {
      "name": "python3",
      "display_name": "Python 3"
    },
    "language_info": {
      "name": "python"
    }
  },
  "cells": [
    {
      "cell_type": "markdown",
      "source": [
        "Napisz klasę BankAccount, która będzie symulować konto bankowe.\n",
        "Klasa powinna przechowywać informacje o właścicielu konta, saldzie i historii transakcji.\n",
        "Dodaj metody depozyt(kwota), wyplata(kwota), które odpowiednio zwiększają lub zmniejszają saldo, oraz historia(),\n",
        "która wyświetli listę wszystkich transakcji.\n",
        "Wypłata powinna być możliwa tylko wtedy, gdy na koncie są wystarczające środki."
      ],
      "metadata": {
        "id": "zJ3dv-ESlt5U"
      }
    },
    {
      "cell_type": "code",
      "execution_count": 1,
      "metadata": {
        "colab": {
          "base_uri": "https://localhost:8080/"
        },
        "id": "Q8B_arehlm_A",
        "outputId": "c79b85f3-2059-40c7-88d4-0bb6a2341fac"
      },
      "outputs": [
        {
          "output_type": "stream",
          "name": "stdout",
          "text": [
            "Wpłacanie 10 zł na Sussus Amongus [100 zł]\n",
            "Wypłacanie 20 zł z Sussus Amongus [110 zł]\n",
            "Wypłacanie 999999999 zł z Sussus Amongus [90 zł]\n",
            "Za mało środków na koncie\n",
            "Historia Sussus Amongus [90 zł]\n",
            "- depozyt 10 zł\n",
            "- wypłata 20 zł\n"
          ]
        }
      ],
      "source": [
        "local_balance = 200\n",
        "\n",
        "class BankLog:\n",
        "    def __init__(self, type: str, amount: float):\n",
        "        self.type = type\n",
        "        self.amount = amount\n",
        "\n",
        "    def __str__(self) -> str:\n",
        "        return f\"{self.type} {self.amount} zł\"\n",
        "\n",
        "class BankAccount:\n",
        "    def __init__(self, name: str, surname: str, init_balance: float = 0):\n",
        "        self.history = []\n",
        "        self.name = name\n",
        "        self.surname = surname\n",
        "        self.balance = init_balance\n",
        "\n",
        "    def __str__(self) -> str:\n",
        "        return f\"{self.name} {self.surname} [{self.balance} zł]\"\n",
        "\n",
        "    def __add_to_history(self, h: BankLog):\n",
        "        self.history.append(h)\n",
        "\n",
        "    def historia(self):\n",
        "        print(\"Historia\", self)\n",
        "\n",
        "        for i in self.history:\n",
        "            print(f\"- {i}\")\n",
        "\n",
        "    def depozyt(self, kwota: float) -> bool:\n",
        "        global local_balance\n",
        "\n",
        "        print(f\"Wpłacanie {kwota} zł na {self}\")\n",
        "\n",
        "        if local_balance < kwota:\n",
        "            print(\"Za mało środków\")\n",
        "            return False\n",
        "\n",
        "        local_balance -= kwota\n",
        "        self.balance += kwota\n",
        "        self.__add_to_history(BankLog(\"depozyt\", kwota))\n",
        "\n",
        "        return True\n",
        "\n",
        "    def wyplata(self, kwota: float) -> bool:\n",
        "        global local_balance\n",
        "\n",
        "        print(f\"Wypłacanie {kwota} zł z {self}\")\n",
        "\n",
        "        if self.balance < kwota:\n",
        "            print(\"Za mało środków na koncie\")\n",
        "            return False\n",
        "\n",
        "        local_balance += kwota\n",
        "        self.balance -= kwota\n",
        "        self.__add_to_history(BankLog(\"wypłata\", kwota))\n",
        "\n",
        "        return True\n",
        "\n",
        "acc = BankAccount(\"Sussus\", \"Amongus\", 100)\n",
        "\n",
        "acc.depozyt(10)\n",
        "acc.wyplata(20)\n",
        "acc.wyplata(999999999)\n",
        "acc.historia()"
      ]
    },
    {
      "cell_type": "code",
      "source": [],
      "metadata": {
        "id": "FSXahriAlw3C"
      },
      "execution_count": null,
      "outputs": []
    }
  ]
}