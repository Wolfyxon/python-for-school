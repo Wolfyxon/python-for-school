{
  "cells": [
    {
      "cell_type": "markdown",
      "id": "f892a028",
      "metadata": {
        "id": "f892a028"
      },
      "source": [
        "# Instrukcje warunkowe i pętle"
      ]
    },
    {
      "cell_type": "markdown",
      "id": "1b63dc7c",
      "metadata": {
        "id": "1b63dc7c"
      },
      "source": [
        "### Podstawowe operatory porównania, instrukcja if - elif - else\n",
        "\n",
        "Python posiada specjalny typ danych logicznych, który jest używany w instrukcjach warunkowych i pętlach. Wartości logiczne True albo False są najczęściej zwracane, kiedy porównujemy ze sobą dwie wartości."
      ]
    },
    {
      "cell_type": "code",
      "execution_count": null,
      "id": "8984d7a3",
      "metadata": {
        "id": "8984d7a3"
      },
      "outputs": [],
      "source": [
        "x = 2\n",
        "print(x == 2) # wypisze True3\n",
        "print(x != 2) # wypisze False\n",
        "print(x == 3) # wypisze False\n",
        "print(x < 3)  # wypisze True"
      ]
    },
    {
      "cell_type": "markdown",
      "id": "64fb0e9f",
      "metadata": {
        "id": "64fb0e9f"
      },
      "source": [
        "Instrukcje warunkowe w języku Python pozwalają na wykonywanie różnych fragmentów kodu w zależności od spełnienia określonych warunków. W Pythonie do tego celu wykorzystuje się instrukcję `if`, `elif` (skrócona forma od \"else if\") oraz opcjonalnie `else`.\n",
        "\n",
        "Ogólna składnia instrukcji warunkowych w Pythonie wygląda następująco:\n",
        "\n",
        "```python\n",
        "if warunek_1:\n",
        "    # kod do wykonania, gdy warunek_1 jest prawdziwy\n",
        "elif warunek_2:\n",
        "    # kod do wykonania, gdy warunek_2 jest prawdziwy\n",
        "else:\n",
        "    # kod do wykonania, gdy żaden z powyższych warunków nie jest prawdziwy\n",
        "```\n",
        "\n",
        "Do oznaczania bloków kodu w Pythonie używamy wcięć zamiast nawiasów ani żadnych innych symboli. Standardowym wcięciem w Pythonie są 4 spacje, chociaż tabulator i inne wcięcia działają tak długo, jak trzymasz ich się konsekwentnie.\n",
        "\n",
        "Poniżej znajdują się przykłady instrukcji warunkowych w Pythonie:"
      ]
    },
    {
      "cell_type": "code",
      "execution_count": null,
      "id": "47ef686c",
      "metadata": {
        "id": "47ef686c"
      },
      "outputs": [],
      "source": [
        "x = 10\n",
        "\n",
        "if x > 5:\n",
        "    print(\"x jest większe od 5\")\n",
        "elif x == 5:\n",
        "    print(\"x jest równe 5\")\n",
        "else:\n",
        "    print(\"x jest mniejsze od 5\")\n",
        "\n",
        "# Wynik: \"x jest większe od 5\""
      ]
    },
    {
      "cell_type": "code",
      "execution_count": null,
      "id": "15e7246e",
      "metadata": {
        "id": "15e7246e"
      },
      "outputs": [],
      "source": [
        "temperatura = 25\n",
        "\n",
        "if temperatura > 30:\n",
        "    print(\"Jest bardzo gorąco!\")\n",
        "elif temperatura > 20:\n",
        "    print(\"Jest ciepło.\")\n",
        "else:\n",
        "    print(\"Jest chłodno.\")"
      ]
    },
    {
      "cell_type": "code",
      "execution_count": null,
      "id": "8df1c7f3",
      "metadata": {
        "id": "8df1c7f3"
      },
      "outputs": [],
      "source": [
        "liczba = -2\n",
        "\n",
        "if liczba > 0:\n",
        "    print(\"Liczba jest dodatnia\")\n",
        "elif liczba < 0:\n",
        "    print(\"Liczba jest ujemna\")\n",
        "else:\n",
        "    print(\"Liczba jest równa zero\")\n",
        "\n",
        "# Wynik: \"Liczba jest ujemna\""
      ]
    },
    {
      "cell_type": "markdown",
      "id": "f309595f",
      "metadata": {
        "id": "f309595f"
      },
      "source": [
        "Instrukcje warunkowe w Pythonie można również zagnieżdżać, czyli umieszczać jedną instrukcję warunkową wewnątrz innej. Jednakże zbyt duża zagnieżdżoność może utrudnić czytelność kodu, dlatego warto ją ograniczać. Mimo wszystko pozwala to na bardziej skomplikowane i szczegółowe sprawdzanie warunków oraz wykonanie odpowiednich działań w zależności od ich spełnienia. Przykład zagnieżdżania instrukcji warunkowych w Pythonie:"
      ]
    },
    {
      "cell_type": "code",
      "execution_count": null,
      "id": "2794f686",
      "metadata": {
        "id": "2794f686"
      },
      "outputs": [],
      "source": [
        "x = 10\n",
        "y = 5\n",
        "\n",
        "if x > 5:\n",
        "    if y > 2:\n",
        "        print(\"Obie zmienne x i y są większe od swoich progów.\")\n",
        "    else:\n",
        "        print(\"x jest większe od 5, ale y nie jest większe od 2.\")\n",
        "else:\n",
        "    print(\"x nie jest większe od 5.\")\n",
        "# Wynik: \"Obie zmienne x i y są większe od swoich progów.\""
      ]
    },
    {
      "cell_type": "markdown",
      "id": "2d7b049d",
      "metadata": {
        "id": "2d7b049d"
      },
      "source": [
        "W tym przykładzie, zagnieżdżamy instrukcję warunkową sprawdzającą `y > 2` wewnątrz pierwszej instrukcji warunkowej `x > 5`. To oznacza, że warunek drugiej instrukcji `y > 2` zostanie sprawdzony tylko wtedy, gdy warunek pierwszej instrukcji `x > 5` będzie prawdziwy."
      ]
    },
    {
      "cell_type": "markdown",
      "id": "cc5ce28e",
      "metadata": {
        "id": "cc5ce28e"
      },
      "source": [
        "### Inne operatory porównania\n",
        "\n",
        "**Operator in**\n",
        "\n",
        "Za pomocą operatora \"in\" możesz sprawdzić, czy konkretny obiekt znajduje sie w tablicy lub innym obiekcie gromadzącym inne obiekty:"
      ]
    },
    {
      "cell_type": "code",
      "execution_count": null,
      "id": "c0e5ea25",
      "metadata": {
        "id": "c0e5ea25"
      },
      "outputs": [],
      "source": [
        "imie = \"Wojtek\"\n",
        "if imie in [\"Jan\", \"Robert\"]:\n",
        "    print(\"Nazywasz sie Jan lub Robert\")"
      ]
    },
    {
      "cell_type": "code",
      "execution_count": null,
      "id": "9067211f",
      "metadata": {
        "id": "9067211f"
      },
      "outputs": [],
      "source": [
        "string = \"Hello World!\"\n",
        "\n",
        "if \"Hello\" in string:\n",
        "    print('TAK')"
      ]
    },
    {
      "cell_type": "markdown",
      "id": "d9537533",
      "metadata": {
        "id": "d9537533"
      },
      "source": [
        "**Operator \"is\"**\n",
        "\n",
        "W przeciwieństwie do ==, operator is nie sprawdza, czy zmienne mają taką samą wartość, ale czy wskazują na ten sam obszar w pamięci komputera. Na przykład:"
      ]
    },
    {
      "cell_type": "code",
      "execution_count": null,
      "id": "0d2f4494",
      "metadata": {
        "id": "0d2f4494"
      },
      "outputs": [],
      "source": [
        "x = [1,2,3]\n",
        "y = [1,2,3]\n",
        "print(x == y) # Wypisze True\n",
        "print(x is y) # Wypisze False\n",
        "\n",
        "tablica = [1, 2, 3]\n",
        "tablica2 = ['a', 'b', tablica]\n",
        "print(tablica == tablica2[2]) # True\n",
        "print(tablica is tablica2[2]) # True\n",
        "\n",
        "# Ponizej dowod na to, ze is mowi prawde\n",
        "\n",
        "tablica.append(4) # Dodajemy do tablicy liczbe 4\n",
        "print(tablica2[2]) # [1, 2, 3, 4]"
      ]
    },
    {
      "cell_type": "markdown",
      "id": "7e293154",
      "metadata": {
        "id": "7e293154"
      },
      "source": [
        "Ponieważ tablica i tablica2 odnoszą się do tego samego obiektu, zmiana jednej oznacza zmianę drugiej. Niestety istnieje w tym miejscu duże ryzyko pomyłki. Stosując proste podstawienie tablica traci kontakt ze starszym obiektem i zapisuje na jego miejscu całkiem nowy i niezależny."
      ]
    },
    {
      "cell_type": "code",
      "execution_count": null,
      "id": "c2e6c730",
      "metadata": {
        "id": "c2e6c730"
      },
      "outputs": [],
      "source": [
        "tablica = [1, 2, 3]\n",
        "tablica2 = ['a', 'b', tablica]\n",
        "print(tablica == tablica2[2]) # True\n",
        "print(tablica is tablica2[2]) # True\n",
        "\n",
        "tablica2[2] = tablica + [4]\n",
        "print(tablica is tablica2[2]) # False\n",
        "print(\"tablica2 = \", tablica2[2])\n",
        "print(\"tablica = \", tablica)"
      ]
    },
    {
      "cell_type": "markdown",
      "id": "b4fb1567",
      "metadata": {
        "id": "b4fb1567"
      },
      "source": [
        "**Operator not**\n",
        "\n",
        "Używając not przed wyrażeniem logicznym zmieniamy jego wartość na przeciwną:"
      ]
    },
    {
      "cell_type": "code",
      "execution_count": null,
      "id": "fe8d03b6",
      "metadata": {
        "id": "fe8d03b6"
      },
      "outputs": [],
      "source": [
        "print(not False)              # Wypisze True\n",
        "print((not False) == (False)) # Wypisze False"
      ]
    },
    {
      "cell_type": "markdown",
      "id": "2312d170",
      "metadata": {
        "id": "2312d170"
      },
      "source": [
        "**Zadanie: Kalkulator oceny zaliczenia projektu**\n",
        "\n",
        "Opis: Twój przyjaciel jest studentem na uczelni i pracuje nad ważnym projektem z przedmiotu Informatyka. Ukończenie tego projektu jest kluczowe dla jego zaliczenia semestru. Projekt składa się z trzech głównych etapów: A, B i C. Każdy etap ma przypisaną pewną ilość punktów, a suma punktów z tych trzech etapów decyduje o ocenie końcowej projektu.\n",
        "\n",
        "Wymagania:\n",
        "- Zaimplementuj kalkulator oceny zaliczenia projektu na podstawie zdobytych punktów.\n",
        "- Za etap A można zdobyć od 0 do 30 punktów, za etap B od 0 do 50 punktów, a za etap C od 0 do 20 punktów.\n",
        "- Suma zdobytych punktów decyduje o ocenie:\n",
        "    - 0-40 punktów: ocena niedostateczna\n",
        "    - 41-60 punktów: ocena dopuszczająca\n",
        "    - 61-80 punktów: ocena dostateczna\n",
        "    - 81-90 punktów: ocena dobra\n",
        "    - 91-98 punktów: ocena bardzo dobra\n",
        "    - 99-100 punktów: celująca\n",
        "\n",
        "Zadanie:\n",
        "Napisz program w języku Python, który poprosi użytkownika o podanie ilości punktów zdobytych w etapach A, B i C. Na podstawie podanych punktów program powinien wyświetlić ocenę, jaką twój przyjaciel otrzyma za projekt.\n",
        "\n",
        "Przykładowy scenariusz działania programu:\n",
        "```\n",
        "Podaj punkty za etap A: 25\n",
        "Podaj punkty za etap B: 40\n",
        "Podaj punkty za etap C: 18\n",
        "\n",
        "Twoja ocena za projekt to: dostateczna\n",
        "```\n",
        "\n",
        "Upewnij się, że twój program uwzględnia zakresy punktów dla poszczególnych ocen oraz poprawnie obsługuje różne przypadki."
      ]
    },
    {
      "cell_type": "code",
      "execution_count": 9,
      "id": "49c886ad",
      "metadata": {
        "id": "49c886ad",
        "colab": {
          "base_uri": "https://localhost:8080/"
        },
        "outputId": "d0a2a5ea-c165-40ff-f69d-eef63fd8e8db"
      },
      "outputs": [
        {
          "output_type": "stream",
          "name": "stdout",
          "text": [
            "Podaj punkty za etap A: 30\n",
            "Podaj punkty za etap B: 50\n",
            "Podaj punkty za etap C: 25\n",
            "Ilość punktów jest większa niż maksymalna.\n",
            "Podaj punkty za etap C: 15\n",
            "Twoja ocena za projekt to: bardzo dobra\n"
          ]
        }
      ],
      "source": [
        "import string\n",
        "\n",
        "stages = []\n",
        "\n",
        "class Stage:\n",
        "    def __init__(self, max_points: int):\n",
        "        self.max_points = max_points\n",
        "        self.points = 0\n",
        "\n",
        "    def query_set_points(self):\n",
        "        try:\n",
        "            pnts = float(input(f\"Podaj punkty za etap {self.get_letter()}: \"))\n",
        "\n",
        "            if pnts < 0:\n",
        "                print(\"Punkty muszą być dodatnie.\")\n",
        "                return self.query_set_points()\n",
        "\n",
        "            if pnts > self.max_points:\n",
        "                print(\"Ilość punktów jest większa niż maksymalna.\")\n",
        "                return self.query_set_points()\n",
        "\n",
        "            self.points = pnts\n",
        "\n",
        "        except:\n",
        "            print(\"Niepoprawna wartość.\")\n",
        "            self.query_set_points()\n",
        "\n",
        "    def get_letter(self) -> str:\n",
        "        return string.ascii_uppercase[stages.index(self)]\n",
        "\n",
        "stages = [\n",
        "    Stage(30),\n",
        "    Stage(50),\n",
        "    Stage(20)\n",
        "]\n",
        "\n",
        "grades = {\n",
        "    range(0, 40): \"niedostateczna\",\n",
        "    range(41, 60): \"dopuszczająca\",\n",
        "    range(61, 80): \"dostateczna\",\n",
        "    range(81, 90): \"dobra\",\n",
        "    range(91, 98): \"bardzo dobra\",\n",
        "    range(99, 100) : \"celująca\"\n",
        "}\n",
        "\n",
        "total_points = 0\n",
        "\n",
        "for stage in stages:\n",
        "    stage.query_set_points()\n",
        "\n",
        "for stage in stages:\n",
        "    total_points += stage.points\n",
        "\n",
        "grade = \"error\"\n",
        "\n",
        "for rang in grades.keys():\n",
        "    if total_points >= min(rang) and total_points <= max(rang):\n",
        "        grade = grades[rang]\n",
        "        break\n",
        "\n",
        "print(\"Twoja ocena za projekt to:\", grade)"
      ]
    },
    {
      "cell_type": "markdown",
      "id": "a14a6833",
      "metadata": {
        "id": "a14a6833"
      },
      "source": [
        "### Pętle for i while"
      ]
    },
    {
      "cell_type": "markdown",
      "id": "72d72585",
      "metadata": {
        "id": "72d72585"
      },
      "source": [
        "W języku Python pętle służą do wielokrotnego wykonania określonego bloku kodu. Istnieją dwie główne pętle w Pythonie: pętla `for` i pętla `while`.\n",
        "\n",
        "1. Pętla `for`:\n",
        "Pętla `for` służy do iteracji przez sekwencje (takie jak listy, krotki, napisy) lub inne obiekty iterowalne. Każdy element sekwencji jest przetwarzany przez blok kodu w pętli.\n",
        "\n",
        "Przykład:\n",
        "```python\n",
        "for element in lista:\n",
        "    # blok kodu do wykonania dla każdego elementu\n",
        "```\n",
        "\n",
        "2. Pętla `while`:\n",
        "Pętla `while` wykonuje się, dopóki warunek podany na początku pętli jest spełniony. Pętla ta jest przydatna, gdy nie wiemy z góry, ile razy pętla powinna być wykonana.\n",
        "\n",
        "Przykład:\n",
        "```python\n",
        "while warunek:\n",
        "    # blok kodu do wykonania dopóki warunek jest spełniony\n",
        "```\n",
        "\n",
        "Przykłady użycia:\n",
        "\n",
        "W obu przypadkach pamiętaj o wcięciach, ponieważ w Pythonie wcięcia są istotne dla określenia bloków kodu wewnątrz pętli. Pętla będzie kontynuowana tak długo, jak długo wcięcie jest utrzymane."
      ]
    },
    {
      "cell_type": "code",
      "execution_count": null,
      "id": "ad8f6f6b",
      "metadata": {
        "id": "ad8f6f6b"
      },
      "outputs": [],
      "source": [
        "fruits = [\"jabłko\", \"banan\", \"gruszka\"]\n",
        "for fruit in fruits:\n",
        "    print(fruit)\n",
        "\n",
        "licznik = 0\n",
        "while licznik < 5:\n",
        "    print(\"Aktualna wartość licznika:\", licznik)\n",
        "    licznik += 1"
      ]
    },
    {
      "cell_type": "markdown",
      "id": "9681acba",
      "metadata": {
        "id": "9681acba"
      },
      "source": [
        "**Pętla for z użyciem funkcji range()**\n",
        "\n",
        "Pętla `for` z użyciem funkcji `range()` jest bardzo często używana w Pythonie do iteracji przez sekwencje liczb. Funkcja `range()` generuje sekwencję liczb w określonym zakresie."
      ]
    },
    {
      "cell_type": "code",
      "execution_count": null,
      "id": "0f3f3743",
      "metadata": {
        "id": "0f3f3743"
      },
      "outputs": [],
      "source": [
        "l = list(range(1,5)) #lista zawierająca liczby z zakresu od 0 1 do 5\n",
        "l"
      ]
    },
    {
      "cell_type": "markdown",
      "id": "9001af58",
      "metadata": {
        "id": "9001af58"
      },
      "source": [
        "Przykład użycia pętli `for` z funkcją `range()`:"
      ]
    },
    {
      "cell_type": "code",
      "execution_count": null,
      "id": "63b7d5df",
      "metadata": {
        "id": "63b7d5df"
      },
      "outputs": [],
      "source": [
        "for i in range(5):  # Generuje sekwencję 0, 1, 2, 3, 4\n",
        "    print(i)"
      ]
    },
    {
      "cell_type": "markdown",
      "id": "58309892",
      "metadata": {
        "id": "58309892"
      },
      "source": [
        "Możesz również podać początek, koniec i krok kroku jako argumenty do funkcji `range()`, aby bardziej dostosować generowaną sekwencję."
      ]
    },
    {
      "cell_type": "code",
      "execution_count": null,
      "id": "d6574240",
      "metadata": {
        "id": "d6574240"
      },
      "outputs": [],
      "source": [
        "for i in range(2, 10, 2):  # Generuje sekwencję 2, 4, 6, 8\n",
        "    print(i)"
      ]
    },
    {
      "cell_type": "markdown",
      "id": "69593254",
      "metadata": {
        "id": "69593254"
      },
      "source": [
        "W tym przypadku `range(2, 10, 2)` generuje liczby od 2 (włącznie) do 10 (wyłącznie), skacząc co 2.\n",
        "\n",
        "Pamiętaj, że w przypadku pętli `for` z funkcją `range()`, wartości generowane są od początkowej do końcowej (z wyłączeniem końcowej)."
      ]
    },
    {
      "cell_type": "markdown",
      "id": "3b96d11c",
      "metadata": {
        "id": "3b96d11c"
      },
      "source": [
        "### Instrukcje break i continue\n",
        "\n",
        "break jest używany do zakończenia pętli for i while, podczas gdy continue pozwala opuścić blok instrukcji niżej i wrócić do nagłówka pętli. Kilka przykładów:"
      ]
    },
    {
      "cell_type": "code",
      "execution_count": null,
      "id": "740706da",
      "metadata": {
        "id": "740706da"
      },
      "outputs": [],
      "source": [
        "# Wypisze 0 1 2 3 4\n",
        "\n",
        "licznik = 0\n",
        "while True:\n",
        "    print(licznik)\n",
        "    licznik += 1\n",
        "    if licznik >= 5:\n",
        "        break\n",
        "\n",
        "print('\\n')\n",
        "\n",
        "# Wypisze tylko liczby nieparzyste - 1 3 5 7 9\n",
        "for x in range(10):\n",
        "    # Sprawdz, czy x jest parzyste\n",
        "    if x % 2 == 0:\n",
        "        continue\n",
        "    print(x)"
      ]
    },
    {
      "cell_type": "markdown",
      "id": "30ac42b2",
      "metadata": {
        "id": "30ac42b2"
      },
      "source": [
        "**Zadanie: Generowanie Tabliczki Mnożenia**\n",
        "\n",
        "Twoim zadaniem jest napisać program w języku Python, który wygeneruje tabliczkę mnożenia dla określonego zakresu liczb. Program powinien przyjmować dwie liczby całkowite jako wejście: `początek` i `koniec` zakresu. Następnie dla każdej liczby w tym zakresie, program powinien wygenerować i wyświetlić odpowiadającą tabliczkę mnożenia od 1 do 10.\n",
        "\n",
        "Przykład:\n",
        "```\n",
        "Podaj początek zakresu: 3\n",
        "Podaj koniec zakresu: 5\n",
        "\n",
        "Tabliczka mnożenia dla liczby 3:\n",
        "3 * 1 = 3\n",
        "3 * 2 = 6\n",
        "3 * 3 = 9\n",
        "3 * 4 = 12\n",
        "3 * 5 = 15\n",
        "3 * 6 = 18\n",
        "3 * 7 = 21\n",
        "3 * 8 = 24\n",
        "3 * 9 = 27\n",
        "3 * 10 = 30\n",
        "\n",
        "Tabliczka mnożenia dla liczby 4:\n",
        "4 * 1 = 4\n",
        "4 * 2 = 8\n",
        "4 * 3 = 12\n",
        "4 * 4 = 16\n",
        "4 * 5 = 20\n",
        "4 * 6 = 24\n",
        "4 * 7 = 28\n",
        "4 * 8 = 32\n",
        "4 * 9 = 36\n",
        "4 * 10 = 40\n",
        "\n",
        "Tabliczka mnożenia dla liczby 5:\n",
        "5 * 1 = 5\n",
        "5 * 2 = 10\n",
        "5 * 3 = 15\n",
        "5 * 4 = 20\n",
        "5 * 5 = 25\n",
        "5 * 6 = 30\n",
        "5 * 7 = 35\n",
        "5 * 8 = 40\n",
        "5 * 9 = 45\n",
        "5 * 10 = 50\n",
        "```\n",
        "\n",
        "Upewnij się, że twój program poprawnie obsługuje wprowadzone liczby całkowite i generuje tabliczkę mnożenia zgodnie z wyżej przedstawionym przykładem.\n",
        "\n",
        "---\n",
        "\n",
        "To zadanie pozwala na praktykę w obszarze pętli, generowania tekstów i operacji matematycznych w Pythonie."
      ]
    },
    {
      "cell_type": "code",
      "execution_count": 12,
      "id": "a5354369",
      "metadata": {
        "id": "a5354369",
        "colab": {
          "base_uri": "https://localhost:8080/"
        },
        "outputId": "ae29d2dc-8ca9-4f00-91a8-ecffdce97e7b"
      },
      "outputs": [
        {
          "output_type": "stream",
          "name": "stdout",
          "text": [
            "Podaj początek zakresu: 3\n",
            "Podaj koniec zakresu: 5\n",
            "\n",
            "Tabliczka mnożenia dla liczby 4:\n",
            "4 * 1 = 4\n",
            "4 * 2 = 8\n",
            "4 * 3 = 12\n",
            "4 * 4 = 16\n",
            "4 * 5 = 20\n",
            "4 * 6 = 24\n",
            "4 * 7 = 28\n",
            "4 * 8 = 32\n",
            "4 * 9 = 36\n",
            "4 * 10 = 40\n",
            "\n",
            "Tabliczka mnożenia dla liczby 5:\n",
            "5 * 1 = 5\n",
            "5 * 2 = 10\n",
            "5 * 3 = 15\n",
            "5 * 4 = 20\n",
            "5 * 5 = 25\n",
            "5 * 6 = 30\n",
            "5 * 7 = 35\n",
            "5 * 8 = 40\n",
            "5 * 9 = 45\n",
            "5 * 10 = 50\n"
          ]
        }
      ],
      "source": [
        "start = int(input(\"Podaj początek zakresu: \"))\n",
        "end = int(input(\"Podaj koniec zakresu: \"))\n",
        "\n",
        "for tab_i in range(start, end):\n",
        "  num1 = tab_i + 1\n",
        "\n",
        "  print()\n",
        "  print(f\"Tabliczka mnożenia dla liczby {num1}:\")\n",
        "\n",
        "  for i in range(10):\n",
        "    num2 = i + 1\n",
        "\n",
        "    print(f\"{num1} * {num2} = {num1 * num2}\")\n"
      ]
    },
    {
      "cell_type": "markdown",
      "id": "9148a02e",
      "metadata": {
        "id": "9148a02e"
      },
      "source": [
        "**Zadanie: Gra w Zgadywanie Liczby**\n",
        "\n",
        "Napisz program w języku Python, który będzie symulować grę w zgadywanie liczby. Program będzie losował liczbę całkowitą z pewnego zakresu (np. od 1 do 100) i będzie prosił użytkownika o zgadnięcie tej liczby. Po każdej próbie użytkownika, program powinien podpowiadać, czy podana liczba jest za duża, za mała czy właściwa.\n",
        "\n",
        "Program powinien działać w następujący sposób:\n",
        "1. Wylosowanie liczby całkowitej z określonego zakresu.\n",
        "2. Rozpoczęcie pętli `while`, w której użytkownik będzie próbował zgadnąć liczbę.\n",
        "3. Wewnątrz pętli program powinien:\n",
        "   - Poprosić użytkownika o podanie liczby.\n",
        "   - Porównać podaną liczbę z wylosowaną liczbą i wyświetlić odpowiednią podpowiedź.\n",
        "   - Jeśli użytkownik odgadnie liczbę, program powinien wyjść z pętli.\n",
        "4. Po zakończeniu gry, program powinien wyświetlić liczbę prób, które użytkownik podjął, zanim odgadł liczbę.\n",
        "\n",
        "Przykład interakcji:\n",
        "```\n",
        "Witaj w grze w zgadywanie liczby!\n",
        "Zgadnij liczbę od 1 do 100.\n",
        "\n",
        "Podaj swoją próbę: 50\n",
        "Za mało!\n",
        "\n",
        "Podaj swoją próbę: 75\n",
        "Za dużo!\n",
        "\n",
        "Podaj swoją próbę: 63\n",
        "Za mało!\n",
        "\n",
        "Podaj swoją próbę: 70\n",
        "Brawo! Zgadłeś liczbę 70 po 4 próbach.\n",
        "```"
      ]
    },
    {
      "cell_type": "code",
      "execution_count": 15,
      "id": "5b5a8b5f",
      "metadata": {
        "id": "5b5a8b5f",
        "colab": {
          "base_uri": "https://localhost:8080/"
        },
        "outputId": "1fe42d5a-5879-4766-b5f4-62d030a79292"
      },
      "outputs": [
        {
          "output_type": "stream",
          "name": "stdout",
          "text": [
            "Witaj w grze w zgadywanie liczby!\n",
            "Zgadnij liczbę od 1 do 100\n",
            "Podaj swoją próbę: 5\n",
            "Za mało!\n",
            "Podaj swoją próbę: 26\n",
            "Za dużo!\n",
            "Podaj swoją próbę: 20\n",
            "Za mało!\n",
            "Podaj swoją próbę: 23\n",
            "Brawo! Zgadłeś liczbę 23 po 4 próbach.\n"
          ]
        }
      ],
      "source": [
        "import random\n",
        "\n",
        "num_min = 1\n",
        "num_max = 100\n",
        "num = random.randint(num_min, num_max)\n",
        "\n",
        "tries = 0\n",
        "\n",
        "def play(increase: bool = True):\n",
        "  global tries\n",
        "\n",
        "  if increase:\n",
        "    tries += 1\n",
        "\n",
        "  try:\n",
        "    inp = int(input(\"Podaj swoją próbę: \"))\n",
        "\n",
        "    if inp < num:\n",
        "      print(\"Za mało!\")\n",
        "\n",
        "    elif inp > num:\n",
        "      print(\"Za dużo!\")\n",
        "\n",
        "    else:\n",
        "      suffix = \"ach\"\n",
        "\n",
        "      if tries == 1:\n",
        "        suffix = \"ie\"\n",
        "\n",
        "      print(f\"Brawo! Zgadłeś liczbę {num} po {tries} prób{suffix}.\")\n",
        "      return\n",
        "\n",
        "    play()\n",
        "\n",
        "  except:\n",
        "    print(\"Niepoprawna liczba.\")\n",
        "    play(False)\n",
        "\n",
        "print(\"Witaj w grze w zgadywanie liczby!\")\n",
        "print(f\"Zgadnij liczbę od {num_min} do {num_max}\")\n",
        "play()"
      ]
    },
    {
      "cell_type": "code",
      "source": [
        "\\"
      ],
      "metadata": {
        "id": "k4DE6zgbP7Jc"
      },
      "id": "k4DE6zgbP7Jc",
      "execution_count": null,
      "outputs": []
    }
  ],
  "metadata": {
    "kernelspec": {
      "display_name": "Python 3 (ipykernel)",
      "language": "python",
      "name": "python3"
    },
    "language_info": {
      "codemirror_mode": {
        "name": "ipython",
        "version": 3
      },
      "file_extension": ".py",
      "mimetype": "text/x-python",
      "name": "python",
      "nbconvert_exporter": "python",
      "pygments_lexer": "ipython3",
      "version": "3.9.13"
    },
    "colab": {
      "provenance": []
    }
  },
  "nbformat": 4,
  "nbformat_minor": 5
}