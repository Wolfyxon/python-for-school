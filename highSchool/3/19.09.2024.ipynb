{
 "cells": [
  {
   "cell_type": "markdown",
   "id": "3ddaf33e",
   "metadata": {},
   "source": [
    "### Zadanie 1\n",
    "W górę rzucono piłkę. Zaniedbując siły oporu, oblicz na jaką wysokość wzniesie się piłka po czasie $t$ sekund, jeżeli wartość początkowa prędkości wynosiła $v_0=3:44\\; {}^m/{}_s$. \n",
    "\n",
    "Wskazówka: Wykorzystaj równanie ruchu $$h(t)=v_0t-\\frac{1}{2}gt^2.$$\n",
    "\n",
    "Obliczenia przeprowadź dla\n",
    "\n",
    "    • t=0.54\n",
    "    • t=0.100\n",
    "    • t=0.235."
   ]
  },
  {
   "cell_type": "code",
   "execution_count": 9,
   "id": "754951f8",
   "metadata": {},
   "outputs": [
    {
     "name": "stdout",
     "output_type": "stream",
     "text": [
      "Prędkość dla 0.54 wynosi 1.5003900000000001\n",
      "Prędkość dla 0.1 wynosi 0.33175000000000004\n",
      "Prędkość dla 0.235 wynosi 0.7407493749999999\n"
     ]
    }
   ],
   "source": [
    "gravity = 2.45\n",
    "init_velocity = 3.44 # mam nadzieję, że ':' to literówka dla kropki.\n",
    "\n",
    "def calc(time):\n",
    "    height = init_velocity * time - 0.5 * gravity * time ** 2\n",
    "    print(\"Prędkość dla\", time, \"wynosi\", height)\n",
    "\n",
    "calc(0.54)\n",
    "calc(0.100)\n",
    "calc(0.235)"
   ]
  },
  {
   "cell_type": "markdown",
   "id": "08f96aa1",
   "metadata": {},
   "source": [
    "### Zadanie 2\n",
    "\n",
    "Napisz program zamieniający jednostki z metrów na stopy, cale, jardy\n",
    "i mile.\n",
    "\n",
    "    • 1 cal = 2.54 cm\n",
    "    • 1 stopa = 12 cali\n",
    "    • 1 jard = 3 stopy\n",
    "    • 1 mila = 1760 jardów\n",
    "    \n",
    "Uwaga: 640 m = 25196.85 cali = 2099.74 stóp = 699.91 jardów = 0.3977\n",
    "mili (użyj tych wielkości do testów)."
   ]
  },
  {
   "cell_type": "code",
   "execution_count": null,
   "id": "9e40c54a",
   "metadata": {},
   "outputs": [],
   "source": [
    "#YOUR CODE HERE"
   ]
  },
  {
   "cell_type": "markdown",
   "id": "47315c66",
   "metadata": {},
   "source": [
    "### Zadanie 3."
   ]
  },
  {
   "cell_type": "markdown",
   "id": "f3f60503",
   "metadata": {},
   "source": [
    "Napisz program konwertujący temperaturę mierzonę w stopniach Celsjusza do stopni Fahrenheita zgodnie z zależnością F = 9/5 C + 32. Następnie napisz program konwertujący temperaturę w drugą stronę."
   ]
  },
  {
   "cell_type": "code",
   "execution_count": null,
   "id": "afcca864",
   "metadata": {},
   "outputs": [],
   "source": [
    "#YOUR CODE HERE"
   ]
  },
  {
   "cell_type": "markdown",
   "id": "7b8d8be3",
   "metadata": {},
   "source": [
    "### Zadanie 4.\n",
    "\n",
    "Napisz program wyliczjący pole i obwód wycinka koła o zadanym promieniu i kącie."
   ]
  },
  {
   "cell_type": "code",
   "execution_count": null,
   "id": "6d270634",
   "metadata": {},
   "outputs": [],
   "source": [
    "#YOUR CODE HERE"
   ]
  },
  {
   "cell_type": "markdown",
   "id": "a4185782",
   "metadata": {},
   "source": [
    "### Zadanie 5.\n",
    "\n",
    "W piekarni \"Złota bułka\" kupiono 4 bułki po 1,5 zł i dwie drożdżówki po 3,2 zł. Przygotuj paragon po transakcji. Mozna wykorzystać dowolny pragon z zakupów (min 2 produkty) i napisać program drukujący go."
   ]
  },
  {
   "cell_type": "code",
   "execution_count": null,
   "id": "4778700e",
   "metadata": {},
   "outputs": [],
   "source": [
    "#YOUR CODE HERE"
   ]
  },
  {
   "cell_type": "markdown",
   "id": "1f7d41a4",
   "metadata": {},
   "source": [
    "### Zadanie 6.\n",
    "\n",
    "Napisz program, który obliczy sumę wszystkich liczb w danej liście.\n",
    "\n",
    "Uwaga! Proszę wykorzystać tylko omawiane funkcje."
   ]
  },
  {
   "cell_type": "code",
   "execution_count": null,
   "id": "683d7e5a",
   "metadata": {},
   "outputs": [],
   "source": [
    "lista = [7, 14, 2, 45, 9]\n",
    "\n",
    "#YOUR CODE HERE"
   ]
  },
  {
   "cell_type": "markdown",
   "id": "ba2801b6",
   "metadata": {},
   "source": [
    "### Zadanie 7.\n",
    "\n",
    "Napisz program, który obliczy średnią arytmetyczną liczb w danej liście.\n",
    "\n",
    "Uwaga! Proszę wykorzystać tylko omawiane funkcje."
   ]
  },
  {
   "cell_type": "code",
   "execution_count": null,
   "id": "35793905",
   "metadata": {},
   "outputs": [],
   "source": [
    "lista = [7, 14, 2, 45, 9]\n",
    "\n",
    "#YOUR CODE HERE"
   ]
  },
  {
   "cell_type": "markdown",
   "id": "6b32e2d8",
   "metadata": {},
   "source": [
    "### Zadanie 8. \n",
    "\n",
    "Stwórz program, który pobierze dwie liczby od użytkownika i wykona na nich różne operacje arytmetyczne (dodawanie, odejmowanie, mnożenie, dzielenie)."
   ]
  },
  {
   "cell_type": "code",
   "execution_count": null,
   "id": "25742fbb",
   "metadata": {},
   "outputs": [],
   "source": [
    "#YOUR CODE HERE"
   ]
  },
  {
   "cell_type": "markdown",
   "id": "e12c4369",
   "metadata": {},
   "source": [
    "### Zadanie 9. \n",
    "\n",
    "Poproś użytkownika o podanie swojego imienia i nazwiska, a następnie wyświetl je w formacie \"Nazwisko, Imię\"."
   ]
  },
  {
   "cell_type": "code",
   "execution_count": null,
   "id": "72290622",
   "metadata": {},
   "outputs": [],
   "source": [
    "#YOUR CODE HERE"
   ]
  },
  {
   "cell_type": "markdown",
   "id": "04a614df",
   "metadata": {},
   "source": [
    "### Zadanie 10.\n",
    "\n",
    "Napisz program, który znajdzie największą liczbę w danej liście liczb."
   ]
  },
  {
   "cell_type": "code",
   "execution_count": null,
   "id": "f8d1d11a",
   "metadata": {},
   "outputs": [],
   "source": [
    "lista = [7, 14, 2, 45, 9]\n",
    "\n",
    "#YOUR CODE HERE"
   ]
  },
  {
   "cell_type": "markdown",
   "id": "f7e00285",
   "metadata": {},
   "source": [
    "### Zadanie 11.\n",
    "\n",
    "Poproś użytkownika o wprowadzenie tekstu, a następnie wyświetl ten tekst w odwrotnym porządku."
   ]
  },
  {
   "cell_type": "code",
   "execution_count": null,
   "id": "d46e90c3",
   "metadata": {},
   "outputs": [],
   "source": [
    "#YOUR CODE HERE"
   ]
  },
  {
   "cell_type": "markdown",
   "id": "cc009756",
   "metadata": {},
   "source": [
    "### Zadanie 12.\n",
    "\n",
    "Poproś użytkownika o wprowadzenie tekstu i zamień wszystkie litery na wielkie litery."
   ]
  },
  {
   "cell_type": "code",
   "execution_count": null,
   "id": "3405c7d6",
   "metadata": {},
   "outputs": [],
   "source": [
    "#YOUR CODE HERE"
   ]
  },
  {
   "cell_type": "markdown",
   "id": "ddc54502",
   "metadata": {},
   "source": [
    "### Zadanie 13.\n",
    "\n",
    "Poproś użytkownika o wprowadzenie liczby całkowitej i oblicz, ile cyfr ma ta liczba."
   ]
  },
  {
   "cell_type": "code",
   "execution_count": null,
   "id": "e87b2f45",
   "metadata": {},
   "outputs": [],
   "source": [
    "#YOUR CODE HERE"
   ]
  },
  {
   "cell_type": "markdown",
   "id": "ac7ec156",
   "metadata": {},
   "source": [
    "### Zadanie 14.\n",
    "\n",
    "Poproś użytkownika o wprowadzenie masy ciała (w kilogramach) i wzrostu (w metrach), a następnie oblicz jego BMI (Body Mass Index) wg wzoru: BMI = masa / (wzrost^2)."
   ]
  },
  {
   "cell_type": "code",
   "execution_count": null,
   "id": "18ba562a",
   "metadata": {},
   "outputs": [],
   "source": [
    "#YOUR CODE HERE"
   ]
  }
 ],
 "metadata": {
  "kernelspec": {
   "display_name": "Python 3 (ipykernel)",
   "language": "python",
   "name": "python3"
  },
  "language_info": {
   "codemirror_mode": {
    "name": "ipython",
    "version": 3
   },
   "file_extension": ".py",
   "mimetype": "text/x-python",
   "name": "python",
   "nbconvert_exporter": "python",
   "pygments_lexer": "ipython3",
   "version": "3.12.6"
  }
 },
 "nbformat": 4,
 "nbformat_minor": 5
}
