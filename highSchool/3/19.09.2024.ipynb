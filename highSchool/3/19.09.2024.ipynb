{
 "cells": [
  {
   "cell_type": "markdown",
   "id": "3ddaf33e",
   "metadata": {},
   "source": [
    "### Zadanie 1\n",
    "W górę rzucono piłkę. Zaniedbując siły oporu, oblicz na jaką wysokość wzniesie się piłka po czasie $t$ sekund, jeżeli wartość początkowa prędkości wynosiła $v_0=3:44\\; {}^m/{}_s$. \n",
    "\n",
    "Wskazówka: Wykorzystaj równanie ruchu $$h(t)=v_0t-\\frac{1}{2}gt^2.$$\n",
    "\n",
    "Obliczenia przeprowadź dla\n",
    "\n",
    "    • t=0.54\n",
    "    • t=0.100\n",
    "    • t=0.235."
   ]
  },
  {
   "cell_type": "code",
   "execution_count": 153,
   "id": "754951f8",
   "metadata": {},
   "outputs": [
    {
     "name": "stdout",
     "output_type": "stream",
     "text": [
      "Prędkość dla 0.54 wynosi 1.5003900000000001\n",
      "Prędkość dla 0.1 wynosi 0.33175000000000004\n",
      "Prędkość dla 0.235 wynosi 0.7407493749999999\n"
     ]
    }
   ],
   "source": [
    "gravity = 2.45\n",
    "init_velocity = 3.44 # mam nadzieję, że ':' to literówka dla kropki.\n",
    "\n",
    "def calc(time: float):\n",
    "    height = init_velocity * time - 0.5 * gravity * time ** 2\n",
    "    print(\"Prędkość dla\", time, \"wynosi\", height)\n",
    "\n",
    "calc(0.54)\n",
    "calc(0.100)\n",
    "calc(0.235)"
   ]
  },
  {
   "cell_type": "markdown",
   "id": "08f96aa1",
   "metadata": {},
   "source": [
    "### Zadanie 2\n",
    "\n",
    "Napisz program zamieniający jednostki z metrów na stopy, cale, jardy\n",
    "i mile.\n",
    "\n",
    "    • 1 cal = 2.54 cm\n",
    "    • 1 stopa = 12 cali\n",
    "    • 1 jard = 3 stopy\n",
    "    • 1 mila = 1760 jardów\n",
    "    \n",
    "Uwaga: 640 m = 25196.85 cali = 2099.74 stóp = 699.91 jardów = 0.3977\n",
    "mili (użyj tych wielkości do testów)."
   ]
  },
  {
   "cell_type": "code",
   "execution_count": 149,
   "id": "9e40c54a",
   "metadata": {},
   "outputs": [
    {
     "name": "stdout",
     "output_type": "stream",
     "text": [
      "640 m = 64000.0 cm = 25196.850393700788 inch = 2099.737532808399 foot = 699.912510936133 yard = 0.3976775630318938 mile\n",
      "2 m = 200.0 cm = 78.74015748031496 inch = 6.561679790026246 foot = 2.187226596675415 yard = 0.0012427423844746678 mile\n",
      "58 m = 5800.0 cm = 2283.464566929134 inch = 190.28871391076115 foot = 63.42957130358705 yard = 0.036039529149765374 mile\n",
      "16 m = 1600.0 cm = 629.9212598425197 inch = 52.49343832020997 foot = 17.49781277340332 yard = 0.009941939075797343 mile\n"
     ]
    }
   ],
   "source": [
    "factors = {\n",
    "    \"m\": 1,\n",
    "    \"cm\": 0.01,\n",
    "    \"inch\": 2.54,\n",
    "    \"foot\": 12,\n",
    "    \"yard\": 3,\n",
    "    \"mile\": 1760\n",
    "}\n",
    "\n",
    "def get_factors() -> dict[str, float]:\n",
    "    res = {}\n",
    "    previous = 1\n",
    "    \n",
    "    for unit, factor in factors.items():\n",
    "        if not previous:\n",
    "            res[unit] = factor\n",
    "            continue\n",
    "\n",
    "        tmp = previous / factor\n",
    "        \n",
    "        res[unit] = 1 / tmp\n",
    "        previous = tmp\n",
    "    \n",
    "    return res\n",
    "\n",
    "def convert(n: float, source: str, target: str) -> float:\n",
    "    if source == target:\n",
    "        return n\n",
    "\n",
    "    fac = get_factors()\n",
    "    \n",
    "    return (n * fac[source]) / fac[target]\n",
    "\n",
    "def trace(base: float):\n",
    "    prev_unit = None\n",
    "    text = []\n",
    "    \n",
    "    for unit in factors:\n",
    "        if prev_unit:\n",
    "            base = convert(base, prev_unit, unit)\n",
    "\n",
    "        text.append(str(base) + \" \" + unit) \n",
    "        prev_unit = unit\n",
    "\n",
    "    print(\" = \".join(text))\n",
    "\n",
    "trace(640)\n",
    "trace(2)\n",
    "trace(58)\n",
    "trace(16)"
   ]
  },
  {
   "cell_type": "markdown",
   "id": "47315c66",
   "metadata": {},
   "source": [
    "### Zadanie 3."
   ]
  },
  {
   "cell_type": "markdown",
   "id": "f3f60503",
   "metadata": {},
   "source": [
    "Napisz program konwertujący temperaturę mierzonę w stopniach Celsjusza do stopni Fahrenheita zgodnie z zależnością F = 9/5 C + 32. Następnie napisz program konwertujący temperaturę w drugą stronę."
   ]
  },
  {
   "cell_type": "code",
   "execution_count": 146,
   "id": "afcca864",
   "metadata": {},
   "outputs": [
    {
     "name": "stdout",
     "output_type": "stream",
     "text": [
      "2*C = 35.6*F\n",
      "35.6*F = 2.0*C\n",
      "100*C = 212.0*F\n",
      "212*F = 100.0*C\n",
      "-25*C = -13.0*F\n",
      "-13*F = -25.0*C\n"
     ]
    }
   ],
   "source": [
    "max_decimals = 5\n",
    "\n",
    "def c_to_f(c: float):\n",
    "    res = round(9 / 5 * c + 32, max_decimals)\n",
    "    print(str(c) + \"*C\", \"=\", str(res) + \"*F\")\n",
    "\n",
    "def f_to_c(f: float):\n",
    "    res = round((f - 32) * 5 / 9, max_decimals) \n",
    "    print(str(f) + \"*F\", \"=\", str(res) + \"*C\")\n",
    "\n",
    "c_to_f(2)\n",
    "f_to_c(35.6)\n",
    "\n",
    "c_to_f(100)\n",
    "f_to_c(212)\n",
    "\n",
    "c_to_f(-25)\n",
    "f_to_c(-13)"
   ]
  },
  {
   "cell_type": "markdown",
   "id": "7b8d8be3",
   "metadata": {},
   "source": [
    "### Zadanie 4.\n",
    "\n",
    "Napisz program wyliczjący pole i obwód wycinka koła o zadanym promieniu i kącie."
   ]
  },
  {
   "cell_type": "code",
   "execution_count": null,
   "id": "6d270634",
   "metadata": {},
   "outputs": [],
   "source": [
    "#YOUR CODE HERE"
   ]
  },
  {
   "cell_type": "markdown",
   "id": "a4185782",
   "metadata": {},
   "source": [
    "### Zadanie 5.\n",
    "\n",
    "W piekarni \"Złota bułka\" kupiono 4 bułki po 1,5 zł i dwie drożdżówki po 3,2 zł. Przygotuj paragon po transakcji. Mozna wykorzystać dowolny pragon z zakupów (min 2 produkty) i napisać program drukujący go."
   ]
  },
  {
   "cell_type": "code",
   "execution_count": null,
   "id": "4778700e",
   "metadata": {},
   "outputs": [],
   "source": [
    "#YOUR CODE HERE"
   ]
  },
  {
   "cell_type": "markdown",
   "id": "1f7d41a4",
   "metadata": {},
   "source": [
    "### Zadanie 6.\n",
    "\n",
    "Napisz program, który obliczy sumę wszystkich liczb w danej liście.\n",
    "\n",
    "Uwaga! Proszę wykorzystać tylko omawiane funkcje."
   ]
  },
  {
   "cell_type": "code",
   "execution_count": 151,
   "id": "683d7e5a",
   "metadata": {},
   "outputs": [
    {
     "name": "stdout",
     "output_type": "stream",
     "text": [
      "77\n"
     ]
    }
   ],
   "source": [
    "lista = [7, 14, 2, 45, 9]\n",
    "\n",
    "print(sum(lista))"
   ]
  },
  {
   "cell_type": "markdown",
   "id": "ba2801b6",
   "metadata": {},
   "source": [
    "### Zadanie 7.\n",
    "\n",
    "Napisz program, który obliczy średnią arytmetyczną liczb w danej liście.\n",
    "\n",
    "Uwaga! Proszę wykorzystać tylko omawiane funkcje."
   ]
  },
  {
   "cell_type": "code",
   "execution_count": 152,
   "id": "35793905",
   "metadata": {},
   "outputs": [
    {
     "name": "stdout",
     "output_type": "stream",
     "text": [
      "15.4\n"
     ]
    }
   ],
   "source": [
    "lista = [7, 14, 2, 45, 9]\n",
    "\n",
    "print(sum(lista) / len(lista))"
   ]
  },
  {
   "cell_type": "markdown",
   "id": "6b32e2d8",
   "metadata": {},
   "source": [
    "### Zadanie 8. \n",
    "\n",
    "Stwórz program, który pobierze dwie liczby od użytkownika i wykona na nich różne operacje arytmetyczne (dodawanie, odejmowanie, mnożenie, dzielenie)."
   ]
  },
  {
   "cell_type": "code",
   "execution_count": 156,
   "id": "25742fbb",
   "metadata": {},
   "outputs": [
    {
     "name": "stdin",
     "output_type": "stream",
     "text": [
      "Podaj A:  4\n",
      "Podaj B:  9\n"
     ]
    },
    {
     "name": "stdout",
     "output_type": "stream",
     "text": [
      "a + b =  13.0\n",
      "a - b =  -5.0\n",
      "a * b =  36.0\n",
      "a / b =  0.4444444444444444\n",
      "a ^ b =  262144.0\n"
     ]
    }
   ],
   "source": [
    "a = float(input(\"Podaj A: \"))\n",
    "b = float(input(\"Podaj B: \"))\n",
    "\n",
    "print(\"a + b = \", a + b)\n",
    "print(\"a - b = \", a - b)\n",
    "print(\"a * b = \", a * b)\n",
    "print(\"a / b = \", a / b)\n",
    "print(\"a ^ b = \", a ** b)\n"
   ]
  },
  {
   "cell_type": "markdown",
   "id": "e12c4369",
   "metadata": {},
   "source": [
    "### Zadanie 9. \n",
    "\n",
    "Poproś użytkownika o podanie swojego imienia i nazwiska, a następnie wyświetl je w formacie \"Nazwisko, Imię\"."
   ]
  },
  {
   "cell_type": "code",
   "execution_count": 157,
   "id": "72290622",
   "metadata": {},
   "outputs": [
    {
     "name": "stdin",
     "output_type": "stream",
     "text": [
      "Podaj imię:  Freddy\n",
      "Podaj nazwisko:  Fazbear\n"
     ]
    },
    {
     "name": "stdout",
     "output_type": "stream",
     "text": [
      "Fazbear, Freddy\n"
     ]
    }
   ],
   "source": [
    "first_name = input(\"Podaj imię: \")\n",
    "second_name = input(\"Podaj nazwisko: \")\n",
    "\n",
    "print(second_name + \",\", first_name)"
   ]
  },
  {
   "cell_type": "markdown",
   "id": "04a614df",
   "metadata": {},
   "source": [
    "### Zadanie 10.\n",
    "\n",
    "Napisz program, który znajdzie największą liczbę w danej liście liczb."
   ]
  },
  {
   "cell_type": "code",
   "execution_count": 158,
   "id": "f8d1d11a",
   "metadata": {},
   "outputs": [
    {
     "name": "stdout",
     "output_type": "stream",
     "text": [
      "45\n"
     ]
    }
   ],
   "source": [
    "lista = [7, 14, 2, 45, 9]\n",
    "\n",
    "print(max(lista))"
   ]
  },
  {
   "cell_type": "markdown",
   "id": "f7e00285",
   "metadata": {},
   "source": [
    "### Zadanie 11.\n",
    "\n",
    "Poproś użytkownika o wprowadzenie tekstu, a następnie wyświetl ten tekst w odwrotnym porządku."
   ]
  },
  {
   "cell_type": "code",
   "execution_count": 162,
   "id": "d46e90c3",
   "metadata": {},
   "outputs": [
    {
     "name": "stdin",
     "output_type": "stream",
     "text": [
      "Podaj tekst:  Rise and shine mr Freeman. Rise and... shine.\n"
     ]
    },
    {
     "name": "stdout",
     "output_type": "stream",
     "text": [
      "shine. and... Rise Freeman. mr shine and Rise\n"
     ]
    }
   ],
   "source": [
    "print(\" \".join(input(\"Podaj tekst: \").split(\" \")[::-1]))"
   ]
  },
  {
   "cell_type": "markdown",
   "id": "cc009756",
   "metadata": {},
   "source": [
    "### Zadanie 12.\n",
    "\n",
    "Poproś użytkownika o wprowadzenie tekstu i zamień wszystkie litery na wielkie litery."
   ]
  },
  {
   "cell_type": "code",
   "execution_count": 163,
   "id": "3405c7d6",
   "metadata": {},
   "outputs": [
    {
     "name": "stdin",
     "output_type": "stream",
     "text": [
      "Podaj tekst:  majonez\n"
     ]
    },
    {
     "name": "stdout",
     "output_type": "stream",
     "text": [
      "MAJONEZ\n"
     ]
    }
   ],
   "source": [
    "print(input(\"Podaj tekst: \").upper())"
   ]
  },
  {
   "cell_type": "markdown",
   "id": "ddc54502",
   "metadata": {},
   "source": [
    "### Zadanie 13.\n",
    "\n",
    "Poproś użytkownika o wprowadzenie liczby całkowitej i oblicz, ile cyfr ma ta liczba."
   ]
  },
  {
   "cell_type": "code",
   "execution_count": 164,
   "id": "e87b2f45",
   "metadata": {},
   "outputs": [
    {
     "name": "stdin",
     "output_type": "stream",
     "text": [
      "Podaj liczbę całkowitą:  59.3\n"
     ]
    },
    {
     "name": "stdout",
     "output_type": "stream",
     "text": [
      "Nieprawidłowa liczba całkowita.\n"
     ]
    },
    {
     "name": "stdin",
     "output_type": "stream",
     "text": [
      "Podaj liczbę całkowitą:  aaaaa\n"
     ]
    },
    {
     "name": "stdout",
     "output_type": "stream",
     "text": [
      "Nieprawidłowa liczba całkowita.\n"
     ]
    },
    {
     "name": "stdin",
     "output_type": "stream",
     "text": [
      "Podaj liczbę całkowitą:  256\n"
     ]
    },
    {
     "name": "stdout",
     "output_type": "stream",
     "text": [
      "3\n"
     ]
    }
   ],
   "source": [
    "def get_num() -> str:\n",
    "    inp = input(\"Podaj liczbę całkowitą: \")\n",
    "\n",
    "    try:\n",
    "        return str(int(inp))\n",
    "    except:\n",
    "        print(\"Nieprawidłowa liczba całkowita.\")\n",
    "        return get_num()\n",
    "\n",
    "print(len(get_num()))"
   ]
  },
  {
   "cell_type": "markdown",
   "id": "ac7ec156",
   "metadata": {},
   "source": [
    "### Zadanie 14.\n",
    "\n",
    "Poproś użytkownika o wprowadzenie masy ciała (w kilogramach) i wzrostu (w metrach), a następnie oblicz jego BMI (Body Mass Index) wg wzoru: BMI = masa / (wzrost^2)."
   ]
  },
  {
   "cell_type": "code",
   "execution_count": null,
   "id": "18ba562a",
   "metadata": {},
   "outputs": [],
   "source": [
    "#YOUR CODE HERE"
   ]
  }
 ],
 "metadata": {
  "kernelspec": {
   "display_name": "Python 3 (ipykernel)",
   "language": "python",
   "name": "python3"
  },
  "language_info": {
   "codemirror_mode": {
    "name": "ipython",
    "version": 3
   },
   "file_extension": ".py",
   "mimetype": "text/x-python",
   "name": "python",
   "nbconvert_exporter": "python",
   "pygments_lexer": "ipython3",
   "version": "3.12.6"
  }
 },
 "nbformat": 4,
 "nbformat_minor": 5
}
