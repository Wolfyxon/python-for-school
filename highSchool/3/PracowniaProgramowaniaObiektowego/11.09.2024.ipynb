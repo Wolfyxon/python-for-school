{
 "cells": [
  {
   "cell_type": "code",
   "execution_count": 1,
   "id": "2890074d-0a0a-439a-b797-de5e446a2aba",
   "metadata": {},
   "outputs": [
    {
     "name": "stdout",
     "output_type": "stream",
     "text": [
      "Wolfyxon\n"
     ]
    }
   ],
   "source": [
    "print(\"Wolfyxon\")"
   ]
  },
  {
   "cell_type": "code",
   "execution_count": 4,
   "id": "636796c9-3e15-4920-b20c-86c89e499a59",
   "metadata": {},
   "outputs": [
    {
     "name": "stdin",
     "output_type": "stream",
     "text": [
      "Podaj swoje imię:  Wolfyxon\n"
     ]
    },
    {
     "name": "stdout",
     "output_type": "stream",
     "text": [
      "'Wolfyxon' huh? Żałosne...\n"
     ]
    }
   ],
   "source": [
    "name = input(\"Podaj swoje imię: \")\n",
    "\n",
    "print(f\"'{name}' huh? Żałosne...\")"
   ]
  },
  {
   "cell_type": "code",
   "execution_count": 11,
   "id": "464ffc3d-b09c-4642-8644-1fa28b7fb928",
   "metadata": {},
   "outputs": [
    {
     "name": "stdout",
     "output_type": "stream",
     "text": [
      "10 większe niż 5\n"
     ]
    }
   ],
   "source": [
    "num = 10\n",
    "comp = 5\n",
    "\n",
    "if num > comp:\n",
    "    print(num, \"większe niż\", comp)\n",
    "elif num == comp:\n",
    "    print(num, \"równe\", comp)\n",
    "else:\n",
    "    print(num, \"mniejsze niż\", comp)"
   ]
  },
  {
   "cell_type": "code",
   "execution_count": 12,
   "id": "f3faab24-6de5-4e70-9748-4d230546b2a3",
   "metadata": {},
   "outputs": [
    {
     "data": {
      "text/plain": [
       "[1, 2, 3, 4]"
      ]
     },
     "execution_count": 12,
     "metadata": {},
     "output_type": "execute_result"
    }
   ],
   "source": [
    "list(range(1, 5))"
   ]
  },
  {
   "cell_type": "code",
   "execution_count": 20,
   "id": "c62d86d1-96fd-4e0a-b7e6-0e32a607f3fa",
   "metadata": {},
   "outputs": [
    {
     "name": "stdout",
     "output_type": "stream",
     "text": [
      "Hejj hejj hejj, Öregisten, vigyázzad léptemet!\n"
     ]
    }
   ],
   "source": [
    "pre = \"\"\n",
    "ln = 3\n",
    "\n",
    "for i in range(ln):\n",
    "    if i == 0:\n",
    "        pre += \"Hejj\"\n",
    "    else:\n",
    "        pre += \"hejj\"\n",
    "    \n",
    "    if i < ln - 1:\n",
    "        pre += \" \"\n",
    "\n",
    "print(pre + \", Öregisten, vigyázzad léptemet!\")"
   ]
  },
  {
   "cell_type": "code",
   "execution_count": 17,
   "id": "be9a77f1-ea45-4d24-bf20-0ed27e107d6a",
   "metadata": {},
   "outputs": [
    {
     "data": {
      "text/plain": [
       "[0, 2, 4, 6, 8, 10, 12, 14]"
      ]
     },
     "execution_count": 17,
     "metadata": {},
     "output_type": "execute_result"
    }
   ],
   "source": [
    "list(range(0, 16, 2))"
   ]
  },
  {
   "cell_type": "code",
   "execution_count": 22,
   "id": "3697b028-1a3f-4c83-a39f-280fca6bf25a",
   "metadata": {},
   "outputs": [
    {
     "name": "stdout",
     "output_type": "stream",
     "text": [
      "5\n",
      "4\n",
      "3\n",
      "2\n",
      "1\n"
     ]
    }
   ],
   "source": [
    "i = 5\n",
    "\n",
    "while i > 0:\n",
    "    print(i)\n",
    "    i -= 1"
   ]
  },
  {
   "cell_type": "code",
   "execution_count": 24,
   "id": "f1a15852-a001-4719-ba0c-cc0b62368037",
   "metadata": {},
   "outputs": [
    {
     "name": "stdout",
     "output_type": "stream",
     "text": [
      "1275\n"
     ]
    }
   ],
   "source": [
    "res = 0\n",
    "\n",
    "for i in range(0, 50 + 1):\n",
    "    res += i\n",
    "\n",
    "print(res)"
   ]
  },
  {
   "cell_type": "code",
   "execution_count": null,
   "id": "9c70352b-ba63-460b-a947-48408bc066f7",
   "metadata": {},
   "outputs": [],
   "source": []
  }
 ],
 "metadata": {
  "kernelspec": {
   "display_name": "Python 3 (ipykernel)",
   "language": "python",
   "name": "python3"
  },
  "language_info": {
   "codemirror_mode": {
    "name": "ipython",
    "version": 3
   },
   "file_extension": ".py",
   "mimetype": "text/x-python",
   "name": "python",
   "nbconvert_exporter": "python",
   "pygments_lexer": "ipython3",
   "version": "3.12.4"
  }
 },
 "nbformat": 4,
 "nbformat_minor": 5
}
